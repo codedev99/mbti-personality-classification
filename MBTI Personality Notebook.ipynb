{
 "cells": [
  {
   "cell_type": "markdown",
   "id": "c2c2ddd2",
   "metadata": {},
   "source": [
    "In this notebook, we use the Myers-Briggs Personality Type Dataset for classification of users into 16 distinct MBTI Personaltiy types. There are 4 indicators for each peronality type:\n",
    "\n",
    "    1) Introversion (I) – Extroversion (E)\n",
    "    2) Intuition (N) – Sensing (S)\n",
    "    3) Thinking (T) – Feeling (F)\n",
    "    4) Judging (J) – Perceiving (P)\n",
    "\n",
    "Thus it can be seen that the problem statement can be divised as either a multiclass classification or multilabel classification.\n",
    "\n",
    "    Multiclass --> Each label is an integer L between 0-N, where N is number of classes.\n",
    "    Multilabel --> Each label is a set of four different sublabels --> L1, L2, L3, L4,\n",
    "                and each L is an integer between 0 & 1.\n",
    "\n",
    "Since our data is heavily imbalanced, we'll be using a Random Balanced Sampler, which samples examples from uncommon classes much more often, so as to maintain the frequency of samples across all classes.\n",
    "                \n",
    "- In this problem statement, we'll be looking at several metrics like accuracy, recall, etc. But we'll be using and following the F1-Score for comparing different models. This is because F1-Score is a good measure to balance both recall and precision of the model. And since F1-Score is more sensitive to class distributions, it is used for handling imbalanced classes, as is our case.\n",
    "\n",
    "- More specifically, we'll be focusing on Macro F1-Score, which is the average of F1-Score computed over the individual classes. It gives an exact sense of bias wrt the uncommon classes, and how well the system will perform in a real world scenario, where the distribution of the dataset might not reflect on the actual scenario.\n",
    "\n",
    "Additionally, we use Stratified 5-Fold Validation, which maintains the ratio between classes for every split. A random_state of 42 is used (wherever availbable), to make the results replicable."
   ]
  },
  {
   "cell_type": "markdown",
   "id": "83ae48a6",
   "metadata": {},
   "source": [
    "1) Firstly we proceed with multiclass dataset with 16 classes. We get the data, clean it, like remove all hyperlinks and unwanted characters. Then proceed to vectorize the data based on TF-IDF.\n",
    "\n",
    "2) Then we train several models, tune the hyperparameters using GridSearchCV (done previously in another notebook), and perform Cross Validation (if possible). Finally the best classifiers are chosen to create and ensemble classifier and tested against the test dataset.\n",
    "\n",
    "3) This process is repeated, firstly for multiclass labels, secondly for multilabel classification, and finally for PCA Decompostion on feature sets with multilabel classification."
   ]
  },
  {
   "cell_type": "code",
   "execution_count": 18,
   "id": "f68e6e44",
   "metadata": {},
   "outputs": [],
   "source": [
    "import pandas as pd\n",
    "import numpy as np\n",
    "from sklearn.feature_extraction.text import TfidfVectorizer\n",
    "from sklearn.metrics import classification_report\n",
    "from sklearn.metrics import accuracy_score, precision_score, recall_score, f1_score\n",
    "from sklearn.model_selection import StratifiedKFold, GridSearchCV, cross_validate\n",
    "from sklearn.pipeline import Pipeline\n",
    "from sklearn.multioutput import MultiOutputClassifier\n",
    "import nltk\n",
    "from nltk.corpus import stopwords\n",
    "from nltk.stem import WordNetLemmatizer\n",
    "from imblearn.over_sampling import RandomOverSampler\n",
    "import re\n",
    "import matplotlib.pyplot as plt\n",
    "import seaborn as sns\n",
    "from tqdm import tqdm\n",
    "import pickle\n",
    "import warnings\n",
    "warnings.filterwarnings(\"ignore\")"
   ]
  },
  {
   "cell_type": "code",
   "execution_count": 512,
   "id": "844217e7",
   "metadata": {},
   "outputs": [],
   "source": [
    "data = pd.read_csv('./mbti_1.csv')"
   ]
  },
  {
   "cell_type": "markdown",
   "id": "e087c24e",
   "metadata": {},
   "source": [
    "# Multiclass Classification"
   ]
  },
  {
   "cell_type": "code",
   "execution_count": 553,
   "id": "134a467d",
   "metadata": {},
   "outputs": [],
   "source": [
    "from sklearn.preprocessing import LabelEncoder\n",
    "\n",
    "# Encoding labels in 0->16 (cardinality=16) format.\n",
    "unique_type_list = ['INFJ', 'ENTP', 'INTP', 'INTJ', 'ENTJ', 'ENFJ', 'INFP', 'ENFP',\n",
    "       'ISFP', 'ISTP', 'ISFJ', 'ISTJ', 'ESTP', 'ESFP', 'ESTJ', 'ESFJ']\n",
    "lab_encoder = LabelEncoder().fit(unique_type_list)"
   ]
  },
  {
   "cell_type": "code",
   "execution_count": 535,
   "id": "bf7dfe06",
   "metadata": {},
   "outputs": [
    {
     "name": "stderr",
     "output_type": "stream",
     "text": [
      "8675it [00:14, 592.17it/s]\n"
     ]
    }
   ],
   "source": [
    "def pre_process_data(data):\n",
    "    list_personality = []\n",
    "    list_posts = []\n",
    "    len_data = len(data)\n",
    "    \n",
    "    for row in tqdm(data.iterrows()):\n",
    "        \n",
    "        st = row[1].posts\n",
    "        \n",
    "        st = st.lower()\n",
    "        st = re.sub(r'\\|{3}',' ',st) # split each post\n",
    "        st = re.sub('https?://[^\\s<>\"]+|www\\.[^\\s<>\"]+',' ',st) # remove hyperlinks\n",
    "        st = re.sub('[\\'\\/]', '',st) # form a single word for words like you're and it's\n",
    "        st = re.sub('[^\\w]',' ',st) # remove anything other than a word char\n",
    "        st = re.sub(r'\\s{1,}',' ',st) # remove multiple spaces\n",
    "        st = re.sub(r'^\\s|\\s$', '', st) # remove start and end whitespaces\n",
    "\n",
    "        type_labelized = lab_encoder.transform([row[1].type])[0] # encoding labels\n",
    "        list_personality.append(type_labelized)\n",
    "        list_posts.append(st)\n",
    "\n",
    "    list_posts = np.array(list_posts)\n",
    "    list_personality = np.array(list_personality)\n",
    "    return list_posts, list_personality\n",
    "\n",
    "list_posts, list_personality = pre_process_data(data)"
   ]
  },
  {
   "cell_type": "code",
   "execution_count": 536,
   "id": "31005c69",
   "metadata": {},
   "outputs": [],
   "source": [
    "from sklearn.model_selection import train_test_split\n",
    "train_post, test_post, train_type, test_type = train_test_split(list_posts, list_personality, test_size = 0.2,\n",
    "                                                                random_state = 42, stratify = list_personality)"
   ]
  },
  {
   "cell_type": "markdown",
   "id": "d9a7322a",
   "metadata": {},
   "source": [
    "    Using Tf-idf instead of count vectorizer, because it is more informative as well as representative of the data. Selecting words with 10% > document freq < 50%, and not more than 1500 words. The parameters may be adjusted, which might lead to giving different, maybe improved scores.\n",
    "    \n",
    "    The resuting feature set is of 796d size, which is a large feature set.\n",
    "    \n",
    "    However, the information density in these feature sets is very low. We will either have to increase the amount of information, or decrease the dimensions."
   ]
  },
  {
   "cell_type": "code",
   "execution_count": 545,
   "id": "af7605f1",
   "metadata": {},
   "outputs": [],
   "source": [
    "from sklearn.feature_extraction.text import TfidfVectorizer\n",
    "\n",
    "vectorizer = TfidfVectorizer(analyzer=\"word\", max_features=1500, max_df=0.5, min_df=0.1)\n",
    "X_train = vectorizer.fit_transform(train_post).toarray() # fitting to the training data posts\n",
    "X_test = vectorizer.transform(test_post).toarray()\n",
    "Y_train = train_type\n",
    "Y_test = test_type"
   ]
  },
  {
   "cell_type": "code",
   "execution_count": 546,
   "id": "ef8b2dd7",
   "metadata": {},
   "outputs": [
    {
     "name": "stdout",
     "output_type": "stream",
     "text": [
      "(6940, 796) <class 'numpy.ndarray'> (6940,) <class 'numpy.ndarray'>\n"
     ]
    }
   ],
   "source": [
    "print(X_train.shape, type(X_train), Y_train.shape, type(Y_train))"
   ]
  },
  {
   "cell_type": "code",
   "execution_count": 19,
   "id": "69d77be7",
   "metadata": {},
   "outputs": [],
   "source": [
    "def fit_metrics(Y_test, Y_pred):\n",
    "    # Returns a dict of scores.\n",
    "    accuracy_score, precision_score, recall_score, f1_score\n",
    "    keys = [\"accuracy\", \"precision\", \"recall\", \"f1\"]\n",
    "    avgs = [\"micro\", \"macro\", \"weighted\"]\n",
    "    scores = {}\n",
    "    scores[keys[0]] = accuracy_score(Y_test, Y_pred)\n",
    "    for i in range(1,4):\n",
    "        for j in range(3):\n",
    "            if i == 1:\n",
    "                scores[keys[i]+\"_\"+avgs[j]] = precision_score(Y_test, Y_pred, average=avgs[j])\n",
    "            elif i == 2:\n",
    "                scores[keys[i]+\"_\"+avgs[j]] = recall_score(Y_test, Y_pred, average=avgs[j])\n",
    "            elif i == 3:\n",
    "                scores[keys[i]+\"_\"+avgs[j]] = f1_score(Y_test, Y_pred, average=avgs[j])\n",
    "    return scores"
   ]
  },
  {
   "cell_type": "code",
   "execution_count": 128,
   "id": "91d5af24",
   "metadata": {},
   "outputs": [],
   "source": [
    "def fit_model(model_uninst, X, Y, model_params=None, multilabel=False, verbose=True):\n",
    "    \"\"\"\n",
    "    Custom fit module, with Stratified K Fold Cross Validation, and accomodating both\n",
    "    multi-class and multi-label data.\n",
    "    Multiclass --> Each label is an integer L between 0-N, where N is number of classes.\n",
    "    Multilabel --> Each label is a set of four different sublabels --> L1, L2, L3, L4\n",
    "                    and each L is an integer [0,1]\n",
    "    \"\"\"\n",
    "    \n",
    "    skf = StratifiedKFold(n_splits = 5, shuffle = True, random_state = 42)\n",
    "    i = 0\n",
    "    scores = []\n",
    "    for train_index, test_index in skf.split(X, Y):\n",
    "        i += 1\n",
    "        if model_params is not None:\n",
    "            model = model_uninst(**model_params)\n",
    "        else:\n",
    "            model = model_uninst()\n",
    "        \n",
    "        if multilabel:\n",
    "            model = MultiOutputClassifier(model)\n",
    "        \n",
    "        X_train_fold, Y_train_fold = X[train_index], Y[train_index]\n",
    "        X_test_fold, Y_test_fold = X[test_index], Y[test_index]\n",
    "        \n",
    "        ros = RandomOverSampler(random_state=42)\n",
    "        X_train_re, Y_train_re = ros.fit_resample(X_train_fold, Y_train_fold)\n",
    "        \n",
    "        model.fit(X_train_re, Y_train_re)\n",
    "        Y_pred_fold = model.predict(X_test_fold)\n",
    "        scores.append(fit_metrics(Y_test_fold, Y_pred_fold))\n",
    "        \n",
    "        if verbose:\n",
    "            print(\"[CV %d/5] Model Validation Accuracy: %.4f\" %(i, scores[-1][\"accuracy\"]))\n",
    "        \n",
    "    return scores"
   ]
  },
  {
   "cell_type": "markdown",
   "id": "19fca19d",
   "metadata": {},
   "source": [
    "# Multinomial Naive Bayes"
   ]
  },
  {
   "cell_type": "code",
   "execution_count": 52,
   "id": "3fa5c9d8",
   "metadata": {},
   "outputs": [],
   "source": [
    "from sklearn.naive_bayes import MultinomialNB"
   ]
  },
  {
   "cell_type": "code",
   "execution_count": 53,
   "id": "0aa6c120",
   "metadata": {},
   "outputs": [
    {
     "name": "stdout",
     "output_type": "stream",
     "text": [
      "[CV 1/5] Model Validation Accuracy: 0.5461\n",
      "[CV 2/5] Model Validation Accuracy: 0.5692\n",
      "[CV 3/5] Model Validation Accuracy: 0.5533\n",
      "[CV 4/5] Model Validation Accuracy: 0.5468\n",
      "[CV 5/5] Model Validation Accuracy: 0.5699\n"
     ]
    }
   ],
   "source": [
    "mnbcls = MultinomialNB\n",
    "scores = fit_model(mnbcls, X_train, Y_train)"
   ]
  },
  {
   "cell_type": "code",
   "execution_count": 54,
   "id": "0500d5cb",
   "metadata": {},
   "outputs": [
    {
     "name": "stdout",
     "output_type": "stream",
     "text": [
      "\n",
      "Fold 1\n",
      "F1 micro : 0.5461095100864554\n",
      "F1 macro : 0.40387225692479883\n",
      "F1 weighted : 0.5568700156629597\n",
      "\n",
      "Fold 2\n",
      "F1 micro : 0.569164265129683\n",
      "F1 macro : 0.40180677727711156\n",
      "F1 weighted : 0.5824178628223396\n",
      "\n",
      "Fold 3\n",
      "F1 micro : 0.553314121037464\n",
      "F1 macro : 0.4274014517348508\n",
      "F1 weighted : 0.5671487716814888\n",
      "\n",
      "Fold 4\n",
      "F1 micro : 0.5468299711815562\n",
      "F1 macro : 0.4210154371136185\n",
      "F1 weighted : 0.5556018233823933\n",
      "\n",
      "Fold 5\n",
      "F1 micro : 0.5698847262247838\n",
      "F1 macro : 0.40910343446074476\n",
      "F1 weighted : 0.5849790636872354\n",
      "\n",
      "Average F1 Macro: 0.4126398715022249\n"
     ]
    }
   ],
   "source": [
    "avg_f1_macro = 0\n",
    "for fold in range(len(scores)):\n",
    "    print(\"\\nFold\", fold+1)\n",
    "    for metric in [\"micro\", \"macro\", \"weighted\"]:\n",
    "        if metric == \"macro\":\n",
    "            avg_f1_macro += scores[fold][\"f1_\"+metric]\n",
    "        print(\"F1 \"+metric,\":\", scores[fold][\"f1_\"+metric])\n",
    "print(\"\\nAverage F1 Macro:\", avg_f1_macro / 5)"
   ]
  },
  {
   "cell_type": "code",
   "execution_count": 55,
   "id": "80ba3ead",
   "metadata": {},
   "outputs": [],
   "source": [
    "with open(\"mbti-multiclass-mnbcls-scores.pkl\", \"wb\") as pklfile:\n",
    "    pickle.dump(scores, pklfile)\n",
    "    pklfile.close()"
   ]
  },
  {
   "cell_type": "markdown",
   "id": "102460e4",
   "metadata": {},
   "source": [
    "# Logistic Regression"
   ]
  },
  {
   "cell_type": "code",
   "execution_count": 56,
   "id": "c578dd49",
   "metadata": {},
   "outputs": [],
   "source": [
    "from sklearn.linear_model import LogisticRegression"
   ]
  },
  {
   "cell_type": "code",
   "execution_count": 59,
   "id": "007e35a5",
   "metadata": {},
   "outputs": [
    {
     "name": "stdout",
     "output_type": "stream",
     "text": [
      "[CV 1/5] Model Validation Accuracy: 0.6095\n",
      "[CV 2/5] Model Validation Accuracy: 0.6563\n",
      "[CV 3/5] Model Validation Accuracy: 0.6412\n",
      "[CV 4/5] Model Validation Accuracy: 0.6196\n",
      "[CV 5/5] Model Validation Accuracy: 0.6268\n"
     ]
    }
   ],
   "source": [
    "lrcls = LogisticRegression\n",
    "scores = fit_model(lrcls, X_train, Y_train, {\"max_iter\":3000})"
   ]
  },
  {
   "cell_type": "code",
   "execution_count": 60,
   "id": "7f077aa0",
   "metadata": {},
   "outputs": [
    {
     "name": "stdout",
     "output_type": "stream",
     "text": [
      "\n",
      "Fold 1\n",
      "F1 micro : 0.6095100864553314\n",
      "F1 macro : 0.4940198472605407\n",
      "F1 weighted : 0.6157741561559672\n",
      "\n",
      "Fold 2\n",
      "F1 micro : 0.6563400576368876\n",
      "F1 macro : 0.5268316431301531\n",
      "F1 weighted : 0.6614312549105372\n",
      "\n",
      "Fold 3\n",
      "F1 micro : 0.6412103746397695\n",
      "F1 macro : 0.5255861224645522\n",
      "F1 weighted : 0.6450142967567404\n",
      "\n",
      "Fold 4\n",
      "F1 micro : 0.6195965417867435\n",
      "F1 macro : 0.5221238525651889\n",
      "F1 weighted : 0.6237638040430528\n",
      "\n",
      "Fold 5\n",
      "F1 micro : 0.6268011527377522\n",
      "F1 macro : 0.5060236547410686\n",
      "F1 weighted : 0.6336698651100766\n",
      "\n",
      "Average F1 Macro: 0.5149170240323008\n"
     ]
    }
   ],
   "source": [
    "avg_f1_macro = 0\n",
    "for fold in range(len(scores)):\n",
    "    print(\"\\nFold\", fold+1)\n",
    "    for metric in [\"micro\", \"macro\", \"weighted\"]:\n",
    "        if metric == \"macro\":\n",
    "            avg_f1_macro += scores[fold][\"f1_\"+metric]\n",
    "        print(\"F1 \"+metric,\":\", scores[fold][\"f1_\"+metric])\n",
    "print(\"\\nAverage F1 Macro:\", avg_f1_macro / 5)"
   ]
  },
  {
   "cell_type": "code",
   "execution_count": 61,
   "id": "46c1815b",
   "metadata": {},
   "outputs": [],
   "source": [
    "with open(\"mbti-multiclass-lrcls-scores.pkl\", \"wb\") as pklfile:\n",
    "    pickle.dump(scores, pklfile)\n",
    "    pklfile.close()"
   ]
  },
  {
   "cell_type": "markdown",
   "id": "4340821a",
   "metadata": {},
   "source": [
    "### Training for ensemble"
   ]
  },
  {
   "cell_type": "markdown",
   "id": "3c8ed397",
   "metadata": {},
   "source": [
    "Retraining model since did not save it previously."
   ]
  },
  {
   "cell_type": "code",
   "execution_count": 463,
   "id": "7f153a49",
   "metadata": {},
   "outputs": [],
   "source": [
    "from sklearn.linear_model import LogisticRegression"
   ]
  },
  {
   "cell_type": "code",
   "execution_count": 464,
   "id": "2cb87a7c",
   "metadata": {},
   "outputs": [
    {
     "data": {
      "text/html": [
       "<style>#sk-container-id-10 {color: black;background-color: white;}#sk-container-id-10 pre{padding: 0;}#sk-container-id-10 div.sk-toggleable {background-color: white;}#sk-container-id-10 label.sk-toggleable__label {cursor: pointer;display: block;width: 100%;margin-bottom: 0;padding: 0.3em;box-sizing: border-box;text-align: center;}#sk-container-id-10 label.sk-toggleable__label-arrow:before {content: \"▸\";float: left;margin-right: 0.25em;color: #696969;}#sk-container-id-10 label.sk-toggleable__label-arrow:hover:before {color: black;}#sk-container-id-10 div.sk-estimator:hover label.sk-toggleable__label-arrow:before {color: black;}#sk-container-id-10 div.sk-toggleable__content {max-height: 0;max-width: 0;overflow: hidden;text-align: left;background-color: #f0f8ff;}#sk-container-id-10 div.sk-toggleable__content pre {margin: 0.2em;color: black;border-radius: 0.25em;background-color: #f0f8ff;}#sk-container-id-10 input.sk-toggleable__control:checked~div.sk-toggleable__content {max-height: 200px;max-width: 100%;overflow: auto;}#sk-container-id-10 input.sk-toggleable__control:checked~label.sk-toggleable__label-arrow:before {content: \"▾\";}#sk-container-id-10 div.sk-estimator input.sk-toggleable__control:checked~label.sk-toggleable__label {background-color: #d4ebff;}#sk-container-id-10 div.sk-label input.sk-toggleable__control:checked~label.sk-toggleable__label {background-color: #d4ebff;}#sk-container-id-10 input.sk-hidden--visually {border: 0;clip: rect(1px 1px 1px 1px);clip: rect(1px, 1px, 1px, 1px);height: 1px;margin: -1px;overflow: hidden;padding: 0;position: absolute;width: 1px;}#sk-container-id-10 div.sk-estimator {font-family: monospace;background-color: #f0f8ff;border: 1px dotted black;border-radius: 0.25em;box-sizing: border-box;margin-bottom: 0.5em;}#sk-container-id-10 div.sk-estimator:hover {background-color: #d4ebff;}#sk-container-id-10 div.sk-parallel-item::after {content: \"\";width: 100%;border-bottom: 1px solid gray;flex-grow: 1;}#sk-container-id-10 div.sk-label:hover label.sk-toggleable__label {background-color: #d4ebff;}#sk-container-id-10 div.sk-serial::before {content: \"\";position: absolute;border-left: 1px solid gray;box-sizing: border-box;top: 0;bottom: 0;left: 50%;z-index: 0;}#sk-container-id-10 div.sk-serial {display: flex;flex-direction: column;align-items: center;background-color: white;padding-right: 0.2em;padding-left: 0.2em;position: relative;}#sk-container-id-10 div.sk-item {position: relative;z-index: 1;}#sk-container-id-10 div.sk-parallel {display: flex;align-items: stretch;justify-content: center;background-color: white;position: relative;}#sk-container-id-10 div.sk-item::before, #sk-container-id-10 div.sk-parallel-item::before {content: \"\";position: absolute;border-left: 1px solid gray;box-sizing: border-box;top: 0;bottom: 0;left: 50%;z-index: -1;}#sk-container-id-10 div.sk-parallel-item {display: flex;flex-direction: column;z-index: 1;position: relative;background-color: white;}#sk-container-id-10 div.sk-parallel-item:first-child::after {align-self: flex-end;width: 50%;}#sk-container-id-10 div.sk-parallel-item:last-child::after {align-self: flex-start;width: 50%;}#sk-container-id-10 div.sk-parallel-item:only-child::after {width: 0;}#sk-container-id-10 div.sk-dashed-wrapped {border: 1px dashed gray;margin: 0 0.4em 0.5em 0.4em;box-sizing: border-box;padding-bottom: 0.4em;background-color: white;}#sk-container-id-10 div.sk-label label {font-family: monospace;font-weight: bold;display: inline-block;line-height: 1.2em;}#sk-container-id-10 div.sk-label-container {text-align: center;}#sk-container-id-10 div.sk-container {/* jupyter's `normalize.less` sets `[hidden] { display: none; }` but bootstrap.min.css set `[hidden] { display: none !important; }` so we also need the `!important` here to be able to override the default hidden behavior on the sphinx rendered scikit-learn.org. See: https://github.com/scikit-learn/scikit-learn/issues/21755 */display: inline-block !important;position: relative;}#sk-container-id-10 div.sk-text-repr-fallback {display: none;}</style><div id=\"sk-container-id-10\" class=\"sk-top-container\"><div class=\"sk-text-repr-fallback\"><pre>LogisticRegression(max_iter=3000)</pre><b>In a Jupyter environment, please rerun this cell to show the HTML representation or trust the notebook. <br />On GitHub, the HTML representation is unable to render, please try loading this page with nbviewer.org.</b></div><div class=\"sk-container\" hidden><div class=\"sk-item\"><div class=\"sk-estimator sk-toggleable\"><input class=\"sk-toggleable__control sk-hidden--visually\" id=\"sk-estimator-id-26\" type=\"checkbox\" checked><label for=\"sk-estimator-id-26\" class=\"sk-toggleable__label sk-toggleable__label-arrow\">LogisticRegression</label><div class=\"sk-toggleable__content\"><pre>LogisticRegression(max_iter=3000)</pre></div></div></div></div></div>"
      ],
      "text/plain": [
       "LogisticRegression(max_iter=3000)"
      ]
     },
     "execution_count": 464,
     "metadata": {},
     "output_type": "execute_result"
    }
   ],
   "source": [
    "lrcls = LogisticRegression(max_iter=3000)\n",
    "lrcls.fit(X_train, Y_train)"
   ]
  },
  {
   "cell_type": "markdown",
   "id": "89cc88ef",
   "metadata": {},
   "source": [
    "# Random Forest Classifier"
   ]
  },
  {
   "cell_type": "code",
   "execution_count": 62,
   "id": "1e48c8f9",
   "metadata": {},
   "outputs": [],
   "source": [
    "from sklearn.ensemble import RandomForestClassifier"
   ]
  },
  {
   "cell_type": "code",
   "execution_count": 82,
   "id": "3eaf7f4f",
   "metadata": {},
   "outputs": [
    {
     "name": "stdout",
     "output_type": "stream",
     "text": [
      "[CV 1/5] Model Validation Accuracy: 0.6037\n",
      "[CV 2/5] Model Validation Accuracy: 0.6239\n",
      "[CV 3/5] Model Validation Accuracy: 0.6196\n",
      "[CV 4/5] Model Validation Accuracy: 0.6218\n",
      "[CV 5/5] Model Validation Accuracy: 0.5929\n",
      "CPU times: total: 2min 1s\n",
      "Wall time: 2min 1s\n"
     ]
    }
   ],
   "source": [
    "%%time\n",
    "rfcls_params = {\"max_depth\":14, \"max_features\":'sqrt', \"min_samples_leaf\":1,\n",
    "                               \"min_samples_split\":2, \"n_estimators\":200, \"random_state\":42}\n",
    "rfcls = RandomForestClassifier\n",
    "scores = fit_model(rfcls, X_train, Y_train, rfcls_params)"
   ]
  },
  {
   "cell_type": "code",
   "execution_count": 83,
   "id": "dce4b116",
   "metadata": {},
   "outputs": [
    {
     "name": "stdout",
     "output_type": "stream",
     "text": [
      "\n",
      "Fold 1\n",
      "F1 micro : 0.6037463976945245\n",
      "F1 macro : 0.48287654683727543\n",
      "F1 weighted : 0.6055901612861658\n",
      "\n",
      "Fold 2\n",
      "F1 micro : 0.6239193083573487\n",
      "F1 macro : 0.49902325922475865\n",
      "F1 weighted : 0.6292359728805311\n",
      "\n",
      "Fold 3\n",
      "F1 micro : 0.6195965417867435\n",
      "F1 macro : 0.5317513565121246\n",
      "F1 weighted : 0.6229088150917286\n",
      "\n",
      "Fold 4\n",
      "F1 micro : 0.6217579250720461\n",
      "F1 macro : 0.5115841715366662\n",
      "F1 weighted : 0.6255743166037112\n",
      "\n",
      "Fold 5\n",
      "F1 micro : 0.5929394812680115\n",
      "F1 macro : 0.49192720241804266\n",
      "F1 weighted : 0.601702508877608\n",
      "\n",
      "Average F1 Macro: 0.5034325073057735\n"
     ]
    }
   ],
   "source": [
    "avg_f1_macro = 0\n",
    "for fold in range(len(scores)):\n",
    "    print(\"\\nFold\", fold+1)\n",
    "    for metric in [\"micro\", \"macro\", \"weighted\"]:\n",
    "        if metric == \"macro\":\n",
    "            avg_f1_macro += scores[fold][\"f1_\"+metric]\n",
    "        print(\"F1 \"+metric,\":\", scores[fold][\"f1_\"+metric])\n",
    "print(\"\\nAverage F1 Macro:\", avg_f1_macro / 5)"
   ]
  },
  {
   "cell_type": "code",
   "execution_count": 84,
   "id": "7fe08a44",
   "metadata": {},
   "outputs": [],
   "source": [
    "with open(\"mbti-multiclass-rfcls-scores.pkl\", \"wb\") as pklfile:\n",
    "    pickle.dump(scores, pklfile)\n",
    "    pklfile.close()"
   ]
  },
  {
   "cell_type": "markdown",
   "id": "34b2f487",
   "metadata": {},
   "source": [
    "### Training for ensemble"
   ]
  },
  {
   "cell_type": "code",
   "execution_count": 461,
   "id": "98cdb754",
   "metadata": {},
   "outputs": [],
   "source": [
    "from sklearn.ensemble import RandomForestClassifier"
   ]
  },
  {
   "cell_type": "code",
   "execution_count": 462,
   "id": "018f2b94",
   "metadata": {},
   "outputs": [
    {
     "name": "stdout",
     "output_type": "stream",
     "text": [
      "CPU times: total: 11.4 s\n",
      "Wall time: 11.5 s\n"
     ]
    },
    {
     "data": {
      "text/html": [
       "<style>#sk-container-id-9 {color: black;background-color: white;}#sk-container-id-9 pre{padding: 0;}#sk-container-id-9 div.sk-toggleable {background-color: white;}#sk-container-id-9 label.sk-toggleable__label {cursor: pointer;display: block;width: 100%;margin-bottom: 0;padding: 0.3em;box-sizing: border-box;text-align: center;}#sk-container-id-9 label.sk-toggleable__label-arrow:before {content: \"▸\";float: left;margin-right: 0.25em;color: #696969;}#sk-container-id-9 label.sk-toggleable__label-arrow:hover:before {color: black;}#sk-container-id-9 div.sk-estimator:hover label.sk-toggleable__label-arrow:before {color: black;}#sk-container-id-9 div.sk-toggleable__content {max-height: 0;max-width: 0;overflow: hidden;text-align: left;background-color: #f0f8ff;}#sk-container-id-9 div.sk-toggleable__content pre {margin: 0.2em;color: black;border-radius: 0.25em;background-color: #f0f8ff;}#sk-container-id-9 input.sk-toggleable__control:checked~div.sk-toggleable__content {max-height: 200px;max-width: 100%;overflow: auto;}#sk-container-id-9 input.sk-toggleable__control:checked~label.sk-toggleable__label-arrow:before {content: \"▾\";}#sk-container-id-9 div.sk-estimator input.sk-toggleable__control:checked~label.sk-toggleable__label {background-color: #d4ebff;}#sk-container-id-9 div.sk-label input.sk-toggleable__control:checked~label.sk-toggleable__label {background-color: #d4ebff;}#sk-container-id-9 input.sk-hidden--visually {border: 0;clip: rect(1px 1px 1px 1px);clip: rect(1px, 1px, 1px, 1px);height: 1px;margin: -1px;overflow: hidden;padding: 0;position: absolute;width: 1px;}#sk-container-id-9 div.sk-estimator {font-family: monospace;background-color: #f0f8ff;border: 1px dotted black;border-radius: 0.25em;box-sizing: border-box;margin-bottom: 0.5em;}#sk-container-id-9 div.sk-estimator:hover {background-color: #d4ebff;}#sk-container-id-9 div.sk-parallel-item::after {content: \"\";width: 100%;border-bottom: 1px solid gray;flex-grow: 1;}#sk-container-id-9 div.sk-label:hover label.sk-toggleable__label {background-color: #d4ebff;}#sk-container-id-9 div.sk-serial::before {content: \"\";position: absolute;border-left: 1px solid gray;box-sizing: border-box;top: 0;bottom: 0;left: 50%;z-index: 0;}#sk-container-id-9 div.sk-serial {display: flex;flex-direction: column;align-items: center;background-color: white;padding-right: 0.2em;padding-left: 0.2em;position: relative;}#sk-container-id-9 div.sk-item {position: relative;z-index: 1;}#sk-container-id-9 div.sk-parallel {display: flex;align-items: stretch;justify-content: center;background-color: white;position: relative;}#sk-container-id-9 div.sk-item::before, #sk-container-id-9 div.sk-parallel-item::before {content: \"\";position: absolute;border-left: 1px solid gray;box-sizing: border-box;top: 0;bottom: 0;left: 50%;z-index: -1;}#sk-container-id-9 div.sk-parallel-item {display: flex;flex-direction: column;z-index: 1;position: relative;background-color: white;}#sk-container-id-9 div.sk-parallel-item:first-child::after {align-self: flex-end;width: 50%;}#sk-container-id-9 div.sk-parallel-item:last-child::after {align-self: flex-start;width: 50%;}#sk-container-id-9 div.sk-parallel-item:only-child::after {width: 0;}#sk-container-id-9 div.sk-dashed-wrapped {border: 1px dashed gray;margin: 0 0.4em 0.5em 0.4em;box-sizing: border-box;padding-bottom: 0.4em;background-color: white;}#sk-container-id-9 div.sk-label label {font-family: monospace;font-weight: bold;display: inline-block;line-height: 1.2em;}#sk-container-id-9 div.sk-label-container {text-align: center;}#sk-container-id-9 div.sk-container {/* jupyter's `normalize.less` sets `[hidden] { display: none; }` but bootstrap.min.css set `[hidden] { display: none !important; }` so we also need the `!important` here to be able to override the default hidden behavior on the sphinx rendered scikit-learn.org. See: https://github.com/scikit-learn/scikit-learn/issues/21755 */display: inline-block !important;position: relative;}#sk-container-id-9 div.sk-text-repr-fallback {display: none;}</style><div id=\"sk-container-id-9\" class=\"sk-top-container\"><div class=\"sk-text-repr-fallback\"><pre>RandomForestClassifier(max_depth=14, n_estimators=200, random_state=42)</pre><b>In a Jupyter environment, please rerun this cell to show the HTML representation or trust the notebook. <br />On GitHub, the HTML representation is unable to render, please try loading this page with nbviewer.org.</b></div><div class=\"sk-container\" hidden><div class=\"sk-item\"><div class=\"sk-estimator sk-toggleable\"><input class=\"sk-toggleable__control sk-hidden--visually\" id=\"sk-estimator-id-25\" type=\"checkbox\" checked><label for=\"sk-estimator-id-25\" class=\"sk-toggleable__label sk-toggleable__label-arrow\">RandomForestClassifier</label><div class=\"sk-toggleable__content\"><pre>RandomForestClassifier(max_depth=14, n_estimators=200, random_state=42)</pre></div></div></div></div></div>"
      ],
      "text/plain": [
       "RandomForestClassifier(max_depth=14, n_estimators=200, random_state=42)"
      ]
     },
     "execution_count": 462,
     "metadata": {},
     "output_type": "execute_result"
    }
   ],
   "source": [
    "%%time\n",
    "rfcls_params = {\"max_depth\":14, \"max_features\":'sqrt', \"min_samples_leaf\":1,\n",
    "                               \"min_samples_split\":2, \"n_estimators\":200, \"random_state\":42}\n",
    "rfcls = RandomForestClassifier(**rfcls_params)\n",
    "rfcls.fit(X_train, Y_train)"
   ]
  },
  {
   "cell_type": "markdown",
   "id": "3f0f05e7",
   "metadata": {},
   "source": [
    "# XGBoostClassifier"
   ]
  },
  {
   "cell_type": "code",
   "execution_count": 99,
   "id": "c5a22b14",
   "metadata": {},
   "outputs": [],
   "source": [
    "from xgboost import XGBClassifier"
   ]
  },
  {
   "cell_type": "code",
   "execution_count": 100,
   "id": "83e2f6d5",
   "metadata": {},
   "outputs": [
    {
     "name": "stdout",
     "output_type": "stream",
     "text": [
      "[CV 1/5] Model Validation Accuracy: 0.6390\n",
      "[CV 2/5] Model Validation Accuracy: 0.6715\n",
      "[CV 3/5] Model Validation Accuracy: 0.6556\n",
      "[CV 4/5] Model Validation Accuracy: 0.6419\n",
      "[CV 5/5] Model Validation Accuracy: 0.6664\n",
      "CPU times: total: 1h 1min 7s\n",
      "Wall time: 7min 45s\n"
     ]
    }
   ],
   "source": [
    "%%time\n",
    "xgbcls_params = {\"n_estimators\": 100, \"max_depth\": 4, \"learning_rate\": 0.1, \"random_state\": 42}\n",
    "xgbcls = XGBClassifier\n",
    "scores = fit_model(xgbcls, X_train, Y_train, xgbcls_params)"
   ]
  },
  {
   "cell_type": "code",
   "execution_count": 101,
   "id": "b8ec8480",
   "metadata": {},
   "outputs": [
    {
     "name": "stdout",
     "output_type": "stream",
     "text": [
      "\n",
      "Fold 1\n",
      "F1 micro : 0.6390489913544669\n",
      "F1 macro : 0.491461131559766\n",
      "F1 weighted : 0.6367136752389552\n",
      "\n",
      "Fold 2\n",
      "F1 micro : 0.6714697406340058\n",
      "F1 macro : 0.5254053459369897\n",
      "F1 weighted : 0.6685126786229342\n",
      "\n",
      "Fold 3\n",
      "F1 micro : 0.6556195965417867\n",
      "F1 macro : 0.56647400440343\n",
      "F1 weighted : 0.6555474018433732\n",
      "\n",
      "Fold 4\n",
      "F1 micro : 0.6419308357348703\n",
      "F1 macro : 0.4953656779964252\n",
      "F1 weighted : 0.6393761527709959\n",
      "\n",
      "Fold 5\n",
      "F1 micro : 0.6664265129682997\n",
      "F1 macro : 0.5578723672982543\n",
      "F1 weighted : 0.6675530361215979\n",
      "\n",
      "Average F1 Macro: 0.527315705438973\n"
     ]
    }
   ],
   "source": [
    "avg_f1_macro = 0\n",
    "for fold in range(len(scores)):\n",
    "    print(\"\\nFold\", fold+1)\n",
    "    for metric in [\"micro\", \"macro\", \"weighted\"]:\n",
    "        if metric == \"macro\":\n",
    "            avg_f1_macro += scores[fold][\"f1_\"+metric]\n",
    "        print(\"F1 \"+metric,\":\", scores[fold][\"f1_\"+metric])\n",
    "print(\"\\nAverage F1 Macro:\", avg_f1_macro / 5)"
   ]
  },
  {
   "cell_type": "markdown",
   "id": "79e998cb",
   "metadata": {},
   "source": [
    "##### Since the feature set is too large, XGBoost takes a long time to train and/or doesn't provide good results."
   ]
  },
  {
   "cell_type": "code",
   "execution_count": 112,
   "id": "0d1594b7",
   "metadata": {},
   "outputs": [],
   "source": [
    "with open(\"mbti-multiclass-xgbcls-scores.pkl\", \"wb\") as pklfile:\n",
    "    pickle.dump(scores, pklfile)\n",
    "    pklfile.close()"
   ]
  },
  {
   "cell_type": "markdown",
   "id": "a7d55e73",
   "metadata": {},
   "source": [
    "# Stochastic Gradient Descent Classifier"
   ]
  },
  {
   "cell_type": "code",
   "execution_count": 91,
   "id": "764ef477",
   "metadata": {},
   "outputs": [],
   "source": [
    "from sklearn.linear_model import SGDClassifier"
   ]
  },
  {
   "cell_type": "code",
   "execution_count": 92,
   "id": "fa565059",
   "metadata": {},
   "outputs": [
    {
     "name": "stdout",
     "output_type": "stream",
     "text": [
      "[CV 1/5] Model Validation Accuracy: 0.6153\n",
      "[CV 2/5] Model Validation Accuracy: 0.6542\n",
      "[CV 3/5] Model Validation Accuracy: 0.6419\n",
      "[CV 4/5] Model Validation Accuracy: 0.6246\n",
      "[CV 5/5] Model Validation Accuracy: 0.6390\n",
      "CPU times: total: 1min 55s\n",
      "Wall time: 1min 55s\n"
     ]
    }
   ],
   "source": [
    "%%time\n",
    "sgdcls_params = {\"loss\": \"log_loss\", \"max_iter\": 40, \"learning_rate\": \"optimal\", \"tol\": None, \"random_state\": 42}\n",
    "sgdcls = SGDClassifier\n",
    "scores = fit_model(sgdcls, X_train, Y_train, sgdcls_params)"
   ]
  },
  {
   "cell_type": "code",
   "execution_count": 93,
   "id": "32f961ed",
   "metadata": {},
   "outputs": [
    {
     "name": "stdout",
     "output_type": "stream",
     "text": [
      "\n",
      "Fold 1\n",
      "F1 micro : 0.6152737752161384\n",
      "F1 macro : 0.4966976991509719\n",
      "F1 weighted : 0.6239932624286784\n",
      "\n",
      "Fold 2\n",
      "F1 micro : 0.654178674351585\n",
      "F1 macro : 0.5205276434844653\n",
      "F1 weighted : 0.6642630640062668\n",
      "\n",
      "Fold 3\n",
      "F1 micro : 0.6419308357348703\n",
      "F1 macro : 0.5187749973176499\n",
      "F1 weighted : 0.6511137241059225\n",
      "\n",
      "Fold 4\n",
      "F1 micro : 0.6246397694524496\n",
      "F1 macro : 0.5167280538085701\n",
      "F1 weighted : 0.6335551545152072\n",
      "\n",
      "Fold 5\n",
      "F1 micro : 0.6390489913544669\n",
      "F1 macro : 0.5132280681253967\n",
      "F1 weighted : 0.649842701622105\n",
      "\n",
      "Average F1 Macro: 0.5131912923774108\n"
     ]
    }
   ],
   "source": [
    "avg_f1_macro = 0\n",
    "for fold in range(len(scores)):\n",
    "    print(\"\\nFold\", fold+1)\n",
    "    for metric in [\"micro\", \"macro\", \"weighted\"]:\n",
    "        if metric == \"macro\":\n",
    "            avg_f1_macro += scores[fold][\"f1_\"+metric]\n",
    "        print(\"F1 \"+metric,\":\", scores[fold][\"f1_\"+metric])\n",
    "print(\"\\nAverage F1 Macro:\", avg_f1_macro / 5)"
   ]
  },
  {
   "cell_type": "code",
   "execution_count": 94,
   "id": "fc46b580",
   "metadata": {},
   "outputs": [],
   "source": [
    "with open(\"mbti-multiclass-sgdcls-scores.pkl\", \"wb\") as pklfile:\n",
    "    pickle.dump(scores, pklfile)\n",
    "    pklfile.close()"
   ]
  },
  {
   "cell_type": "markdown",
   "id": "205e1012",
   "metadata": {},
   "source": [
    "### Training for ensemble"
   ]
  },
  {
   "cell_type": "code",
   "execution_count": 465,
   "id": "4e95452a",
   "metadata": {},
   "outputs": [],
   "source": [
    "from sklearn.linear_model import SGDClassifier"
   ]
  },
  {
   "cell_type": "code",
   "execution_count": 466,
   "id": "d035ae4c",
   "metadata": {},
   "outputs": [
    {
     "name": "stdout",
     "output_type": "stream",
     "text": [
      "CPU times: total: 8.5 s\n",
      "Wall time: 8.49 s\n"
     ]
    },
    {
     "data": {
      "text/html": [
       "<style>#sk-container-id-11 {color: black;background-color: white;}#sk-container-id-11 pre{padding: 0;}#sk-container-id-11 div.sk-toggleable {background-color: white;}#sk-container-id-11 label.sk-toggleable__label {cursor: pointer;display: block;width: 100%;margin-bottom: 0;padding: 0.3em;box-sizing: border-box;text-align: center;}#sk-container-id-11 label.sk-toggleable__label-arrow:before {content: \"▸\";float: left;margin-right: 0.25em;color: #696969;}#sk-container-id-11 label.sk-toggleable__label-arrow:hover:before {color: black;}#sk-container-id-11 div.sk-estimator:hover label.sk-toggleable__label-arrow:before {color: black;}#sk-container-id-11 div.sk-toggleable__content {max-height: 0;max-width: 0;overflow: hidden;text-align: left;background-color: #f0f8ff;}#sk-container-id-11 div.sk-toggleable__content pre {margin: 0.2em;color: black;border-radius: 0.25em;background-color: #f0f8ff;}#sk-container-id-11 input.sk-toggleable__control:checked~div.sk-toggleable__content {max-height: 200px;max-width: 100%;overflow: auto;}#sk-container-id-11 input.sk-toggleable__control:checked~label.sk-toggleable__label-arrow:before {content: \"▾\";}#sk-container-id-11 div.sk-estimator input.sk-toggleable__control:checked~label.sk-toggleable__label {background-color: #d4ebff;}#sk-container-id-11 div.sk-label input.sk-toggleable__control:checked~label.sk-toggleable__label {background-color: #d4ebff;}#sk-container-id-11 input.sk-hidden--visually {border: 0;clip: rect(1px 1px 1px 1px);clip: rect(1px, 1px, 1px, 1px);height: 1px;margin: -1px;overflow: hidden;padding: 0;position: absolute;width: 1px;}#sk-container-id-11 div.sk-estimator {font-family: monospace;background-color: #f0f8ff;border: 1px dotted black;border-radius: 0.25em;box-sizing: border-box;margin-bottom: 0.5em;}#sk-container-id-11 div.sk-estimator:hover {background-color: #d4ebff;}#sk-container-id-11 div.sk-parallel-item::after {content: \"\";width: 100%;border-bottom: 1px solid gray;flex-grow: 1;}#sk-container-id-11 div.sk-label:hover label.sk-toggleable__label {background-color: #d4ebff;}#sk-container-id-11 div.sk-serial::before {content: \"\";position: absolute;border-left: 1px solid gray;box-sizing: border-box;top: 0;bottom: 0;left: 50%;z-index: 0;}#sk-container-id-11 div.sk-serial {display: flex;flex-direction: column;align-items: center;background-color: white;padding-right: 0.2em;padding-left: 0.2em;position: relative;}#sk-container-id-11 div.sk-item {position: relative;z-index: 1;}#sk-container-id-11 div.sk-parallel {display: flex;align-items: stretch;justify-content: center;background-color: white;position: relative;}#sk-container-id-11 div.sk-item::before, #sk-container-id-11 div.sk-parallel-item::before {content: \"\";position: absolute;border-left: 1px solid gray;box-sizing: border-box;top: 0;bottom: 0;left: 50%;z-index: -1;}#sk-container-id-11 div.sk-parallel-item {display: flex;flex-direction: column;z-index: 1;position: relative;background-color: white;}#sk-container-id-11 div.sk-parallel-item:first-child::after {align-self: flex-end;width: 50%;}#sk-container-id-11 div.sk-parallel-item:last-child::after {align-self: flex-start;width: 50%;}#sk-container-id-11 div.sk-parallel-item:only-child::after {width: 0;}#sk-container-id-11 div.sk-dashed-wrapped {border: 1px dashed gray;margin: 0 0.4em 0.5em 0.4em;box-sizing: border-box;padding-bottom: 0.4em;background-color: white;}#sk-container-id-11 div.sk-label label {font-family: monospace;font-weight: bold;display: inline-block;line-height: 1.2em;}#sk-container-id-11 div.sk-label-container {text-align: center;}#sk-container-id-11 div.sk-container {/* jupyter's `normalize.less` sets `[hidden] { display: none; }` but bootstrap.min.css set `[hidden] { display: none !important; }` so we also need the `!important` here to be able to override the default hidden behavior on the sphinx rendered scikit-learn.org. See: https://github.com/scikit-learn/scikit-learn/issues/21755 */display: inline-block !important;position: relative;}#sk-container-id-11 div.sk-text-repr-fallback {display: none;}</style><div id=\"sk-container-id-11\" class=\"sk-top-container\"><div class=\"sk-text-repr-fallback\"><pre>SGDClassifier(loss=&#x27;log_loss&#x27;, max_iter=40, random_state=42, tol=None)</pre><b>In a Jupyter environment, please rerun this cell to show the HTML representation or trust the notebook. <br />On GitHub, the HTML representation is unable to render, please try loading this page with nbviewer.org.</b></div><div class=\"sk-container\" hidden><div class=\"sk-item\"><div class=\"sk-estimator sk-toggleable\"><input class=\"sk-toggleable__control sk-hidden--visually\" id=\"sk-estimator-id-27\" type=\"checkbox\" checked><label for=\"sk-estimator-id-27\" class=\"sk-toggleable__label sk-toggleable__label-arrow\">SGDClassifier</label><div class=\"sk-toggleable__content\"><pre>SGDClassifier(loss=&#x27;log_loss&#x27;, max_iter=40, random_state=42, tol=None)</pre></div></div></div></div></div>"
      ],
      "text/plain": [
       "SGDClassifier(loss='log_loss', max_iter=40, random_state=42, tol=None)"
      ]
     },
     "execution_count": 466,
     "metadata": {},
     "output_type": "execute_result"
    }
   ],
   "source": [
    "%%time\n",
    "sgdcls_params = {\"loss\": \"log_loss\", \"max_iter\": 40, \"learning_rate\": \"optimal\", \"tol\": None, \"random_state\": 42}\n",
    "sgdcls = SGDClassifier(**sgdcls_params)\n",
    "sgdcls.fit(X_train, Y_train)"
   ]
  },
  {
   "cell_type": "markdown",
   "id": "30f116b1",
   "metadata": {},
   "source": [
    "# Support Vector Classifier"
   ]
  },
  {
   "cell_type": "code",
   "execution_count": 95,
   "id": "1c72d5a8",
   "metadata": {},
   "outputs": [],
   "source": [
    "from sklearn.svm import SVC"
   ]
  },
  {
   "cell_type": "code",
   "execution_count": 96,
   "id": "2024f0f5",
   "metadata": {},
   "outputs": [
    {
     "name": "stdout",
     "output_type": "stream",
     "text": [
      "[CV 1/5] Model Validation Accuracy: 0.5569\n",
      "[CV 2/5] Model Validation Accuracy: 0.6059\n",
      "[CV 3/5] Model Validation Accuracy: 0.6088\n",
      "[CV 4/5] Model Validation Accuracy: 0.5720\n",
      "[CV 5/5] Model Validation Accuracy: 0.5814\n",
      "CPU times: total: 18.9 s\n",
      "Wall time: 18.9 s\n"
     ]
    }
   ],
   "source": [
    "%%time\n",
    "svcls_params = {\"random_state\": 42}\n",
    "svcls = SVC\n",
    "scores = fit_model(sgdcls, X_train, Y_train, svcls_params)"
   ]
  },
  {
   "cell_type": "code",
   "execution_count": 97,
   "id": "ca8dae78",
   "metadata": {},
   "outputs": [
    {
     "name": "stdout",
     "output_type": "stream",
     "text": [
      "\n",
      "Fold 1\n",
      "F1 micro : 0.5569164265129684\n",
      "F1 macro : 0.43252890371643316\n",
      "F1 weighted : 0.5684362389468162\n",
      "\n",
      "Fold 2\n",
      "F1 micro : 0.6059077809798271\n",
      "F1 macro : 0.4882203966425359\n",
      "F1 weighted : 0.6188618799569745\n",
      "\n",
      "Fold 3\n",
      "F1 micro : 0.6087896253602305\n",
      "F1 macro : 0.4707797562972517\n",
      "F1 weighted : 0.6223139247310183\n",
      "\n",
      "Fold 4\n",
      "F1 micro : 0.5720461095100865\n",
      "F1 macro : 0.45839349054983836\n",
      "F1 weighted : 0.587562754513815\n",
      "\n",
      "Fold 5\n",
      "F1 micro : 0.5814121037463977\n",
      "F1 macro : 0.4528969600869027\n",
      "F1 weighted : 0.5974320211228921\n",
      "\n",
      "Average F1 Macro: 0.4605639014585924\n"
     ]
    }
   ],
   "source": [
    "avg_f1_macro = 0\n",
    "for fold in range(len(scores)):\n",
    "    print(\"\\nFold\", fold+1)\n",
    "    for metric in [\"micro\", \"macro\", \"weighted\"]:\n",
    "        if metric == \"macro\":\n",
    "            avg_f1_macro += scores[fold][\"f1_\"+metric]\n",
    "        print(\"F1 \"+metric,\":\", scores[fold][\"f1_\"+metric])\n",
    "print(\"\\nAverage F1 Macro:\", avg_f1_macro / 5)"
   ]
  },
  {
   "cell_type": "code",
   "execution_count": 98,
   "id": "2cc1452a",
   "metadata": {},
   "outputs": [],
   "source": [
    "with open(\"mbti-multiclass-svcls-scores.pkl\", \"wb\") as pklfile:\n",
    "    pickle.dump(scores, pklfile)\n",
    "    pklfile.close()"
   ]
  },
  {
   "cell_type": "markdown",
   "id": "4a109bb4",
   "metadata": {},
   "source": [
    "# K-Neighbors Classifier"
   ]
  },
  {
   "cell_type": "code",
   "execution_count": 113,
   "id": "a1e049fe",
   "metadata": {},
   "outputs": [],
   "source": [
    "from sklearn.neighbors import KNeighborsClassifier"
   ]
  },
  {
   "cell_type": "code",
   "execution_count": 119,
   "id": "87f61a96",
   "metadata": {},
   "outputs": [
    {
     "name": "stdout",
     "output_type": "stream",
     "text": [
      "[CV 1/5] Model Validation Accuracy: 0.3329\n",
      "[CV 2/5] Model Validation Accuracy: 0.3624\n",
      "[CV 3/5] Model Validation Accuracy: 0.3667\n",
      "[CV 4/5] Model Validation Accuracy: 0.3530\n",
      "[CV 5/5] Model Validation Accuracy: 0.3386\n",
      "CPU times: total: 36.3 s\n",
      "Wall time: 5.31 s\n"
     ]
    }
   ],
   "source": [
    "%%time\n",
    "kncls_params = {\"n_neighbors\": 20}\n",
    "kncls = KNeighborsClassifier\n",
    "scores = fit_model(kncls, X_train, Y_train, kncls_params)"
   ]
  },
  {
   "cell_type": "code",
   "execution_count": 120,
   "id": "aa6ab0b9",
   "metadata": {},
   "outputs": [
    {
     "name": "stdout",
     "output_type": "stream",
     "text": [
      "\n",
      "Fold 1\n",
      "F1 micro : 0.33285302593659943\n",
      "F1 macro : 0.27561637295686997\n",
      "F1 weighted : 0.3678458214308779\n",
      "\n",
      "Fold 2\n",
      "F1 micro : 0.3623919308357348\n",
      "F1 macro : 0.28161274933194813\n",
      "F1 weighted : 0.40513815073071074\n",
      "\n",
      "Fold 3\n",
      "F1 micro : 0.36671469740634005\n",
      "F1 macro : 0.29708930255934607\n",
      "F1 weighted : 0.4149968220498483\n",
      "\n",
      "Fold 4\n",
      "F1 micro : 0.3530259365994236\n",
      "F1 macro : 0.27603026893134003\n",
      "F1 weighted : 0.4033476547954386\n",
      "\n",
      "Fold 5\n",
      "F1 micro : 0.33861671469740634\n",
      "F1 macro : 0.27227787483533933\n",
      "F1 weighted : 0.3903512579635255\n",
      "\n",
      "Average F1 Macro: 0.28052531372296874\n"
     ]
    }
   ],
   "source": [
    "avg_f1_macro = 0\n",
    "for fold in range(len(scores)):\n",
    "    print(\"\\nFold\", fold+1)\n",
    "    for metric in [\"micro\", \"macro\", \"weighted\"]:\n",
    "        if metric == \"macro\":\n",
    "            avg_f1_macro += scores[fold][\"f1_\"+metric]\n",
    "        print(\"F1 \"+metric,\":\", scores[fold][\"f1_\"+metric])\n",
    "print(\"\\nAverage F1 Macro:\", avg_f1_macro / 5)"
   ]
  },
  {
   "cell_type": "code",
   "execution_count": 164,
   "id": "64a9700a",
   "metadata": {},
   "outputs": [
    {
     "data": {
      "text/plain": [
       "Text(0.5, 1.0, 'Score with regards to N for N Neighbors Classifier')"
      ]
     },
     "execution_count": 164,
     "metadata": {},
     "output_type": "execute_result"
    },
    {
     "data": {
      "image/png": "[encoded data removed]",
      "text/plain": [
       "<Figure size 500x300 with 1 Axes>"
      ]
     },
     "metadata": {},
     "output_type": "display_data"
    }
   ],
   "source": [
    "plt.figure(figsize=(5,3))\n",
    "plt.scatter(scores[:,0], scores[:,1])\n",
    "plt.xticks([5,10,15,20])\n",
    "plt.xlabel(\"N Neighbors\")\n",
    "plt.ylabel(\"Score\")\n",
    "plt.title(\"Score with regards to N for N Neighbors Classifier\")"
   ]
  },
  {
   "cell_type": "markdown",
   "id": "96fcadd9",
   "metadata": {},
   "source": [
    "The score increases with increase in N, but eventually plateaus after around N=20"
   ]
  },
  {
   "cell_type": "code",
   "execution_count": 121,
   "id": "041c6dd0",
   "metadata": {},
   "outputs": [],
   "source": [
    "with open(\"mbti-multiclass-kncls-scores.pkl\", \"wb\") as pklfile:\n",
    "    pickle.dump(scores, pklfile)\n",
    "    pklfile.close()"
   ]
  },
  {
   "cell_type": "markdown",
   "id": "2478d3f3",
   "metadata": {},
   "source": [
    "The following are the Macro F1-scores of 5-fold cross validation:\n",
    "\n",
    "    * MultinomialNB:          0.4126\n",
    "    * Logistic Regression:    0.5149 <==\n",
    "    * Random Forest:          0.5034 <==\n",
    "    * XGBoost:                0.5273 (weights were not stored)\n",
    "    * Stochastic GD:          0.5131 <==\n",
    "    * Support Vector:         0.4605\n",
    "    * K-Neighbors:            0.2805\n",
    "\n",
    "We see that the performance of the models is not upto par.\n",
    "\n",
    "The marked classifiers have a higher f1-score compared to the rest, therefore they are used to create a voting based ensemble. Ensembles are used to lower the overall bias of the algorithm. We implement ensemble through hard voting, meaning each estimator in the ensemble gets a vote, and class with maximum votes is taken as the prediction."
   ]
  },
  {
   "cell_type": "markdown",
   "id": "b3c420fb",
   "metadata": {},
   "source": [
    "# Ensemble of Multiclass Estimators"
   ]
  },
  {
   "cell_type": "code",
   "execution_count": 456,
   "id": "f1fd2a3c",
   "metadata": {},
   "outputs": [],
   "source": [
    "class MCVotingClassifier():\n",
    "    def __init__(self, estimators):\n",
    "        self.estimators_ = estimators\n",
    "    \n",
    "    def predict(self, X):\n",
    "        X = np.squeeze(np.array(X))\n",
    "        predictions = []\n",
    "        for est in self.estimators_:\n",
    "            predictions.append(est[1].predict(X=X))\n",
    "        predictions = np.stack(predictions)\n",
    "        \n",
    "        voted_mat = np.apply_along_axis(lambda x: np.argmax(np.bincount(x)),axis=0,arr=predictions)\n",
    "\n",
    "        return np.squeeze(voted_mat)"
   ]
  },
  {
   "cell_type": "code",
   "execution_count": 444,
   "id": "18c1057f",
   "metadata": {},
   "outputs": [
    {
     "data": {
      "text/plain": [
       "array([0, 1, 7, 8, 5], dtype=int64)"
      ]
     },
     "execution_count": 444,
     "metadata": {},
     "output_type": "execute_result"
    }
   ],
   "source": [
    "maj = np.apply_along_axis(lambda x: np.argmax(np.bincount(x)),axis=0,arr=predictions)\n",
    "maj"
   ]
  },
  {
   "cell_type": "code",
   "execution_count": 467,
   "id": "8a5b95c1",
   "metadata": {},
   "outputs": [],
   "source": [
    "votecls = MCVotingClassifier(estimators=[(\"rf\", rfcls), (\"sgd\", sgdcls), (\"lr\", lrcls)])"
   ]
  },
  {
   "cell_type": "code",
   "execution_count": 468,
   "id": "ca9e77a6",
   "metadata": {},
   "outputs": [],
   "source": [
    "Y_pred = votecls.predict(X_test)\n",
    "scores_votecls = fit_metrics(Y_test, Y_pred)"
   ]
  },
  {
   "cell_type": "code",
   "execution_count": 473,
   "id": "17af1d9e",
   "metadata": {},
   "outputs": [
    {
     "name": "stdout",
     "output_type": "stream",
     "text": [
      "accuracy :  0.6570605187319885\n",
      "precision_micro :  0.6570605187319885\n",
      "precision_macro :  0.630724102940097\n",
      "precision_weighted :  0.66265913623529\n",
      "recall_micro :  0.6570605187319885\n",
      "recall_macro :  0.42914503857163233\n",
      "recall_weighted :  0.6570605187319885\n",
      "f1_micro :  0.6570605187319885\n",
      "f1_macro :  0.47943234428283843\n",
      "f1_weighted :  0.641030207961553\n"
     ]
    }
   ],
   "source": [
    "for key, value in scores_votecls.items():\n",
    "    print(key, \": \", value)"
   ]
  },
  {
   "cell_type": "code",
   "execution_count": 470,
   "id": "fd7c4727",
   "metadata": {},
   "outputs": [],
   "source": [
    "with open(\"mbti-multiclass-votecls-rf-sgd-lr-scores.pkl\", \"wb\") as pklfile:\n",
    "    pickle.dump([votecls, scores_votecls], pklfile)\n",
    "    pklfile.close()"
   ]
  },
  {
   "cell_type": "code",
   "execution_count": 476,
   "id": "e7b22e58",
   "metadata": {},
   "outputs": [
    {
     "data": {
      "text/plain": [
       "0.2736445382822491"
      ]
     },
     "execution_count": 476,
     "metadata": {},
     "output_type": "execute_result"
    }
   ],
   "source": [
    "# Testing Random Forest on test data\n",
    "Y_predt = rfcls.predict(X_test)\n",
    "scorest = fit_metrics(Y_test, Y_predt)\n",
    "scorest[\"f1_macro\"]"
   ]
  },
  {
   "cell_type": "code",
   "execution_count": 477,
   "id": "61c24dc3",
   "metadata": {},
   "outputs": [
    {
     "data": {
      "text/plain": [
       "0.49558465411029906"
      ]
     },
     "execution_count": 477,
     "metadata": {},
     "output_type": "execute_result"
    }
   ],
   "source": [
    "# Testing SGD on test data\n",
    "Y_predt = sgdcls.predict(X_test)\n",
    "scorest = fit_metrics(Y_test, Y_predt)\n",
    "scorest[\"f1_macro\"]"
   ]
  },
  {
   "cell_type": "code",
   "execution_count": 478,
   "id": "edbf85de",
   "metadata": {},
   "outputs": [
    {
     "data": {
      "text/plain": [
       "0.47683432922702734"
      ]
     },
     "execution_count": 478,
     "metadata": {},
     "output_type": "execute_result"
    }
   ],
   "source": [
    "# Testing Logistic Regression on test data\n",
    "Y_predt = lrcls.predict(X_test)\n",
    "scorest = fit_metrics(Y_test, Y_predt)\n",
    "scorest[\"f1_macro\"]"
   ]
  },
  {
   "cell_type": "markdown",
   "id": "90b754a0",
   "metadata": {},
   "source": [
    "We see that the macro-f1 for the SGD Classifier is higher than that of the ensemble."
   ]
  },
  {
   "cell_type": "markdown",
   "id": "afc844e2",
   "metadata": {},
   "source": [
    "# Converting data from Multiclass to Multilabel Classification"
   ]
  },
  {
   "cell_type": "markdown",
   "id": "8388eb14",
   "metadata": {},
   "source": [
    "### Imp Note: The pre_process_data function below works for converting raw data to multilabel, and the pre_process_data function under multiclass works for converting raw data to multiclass. Multiclass data will not work for this second section or vice-versa as the variable names are the same. "
   ]
  },
  {
   "cell_type": "code",
   "execution_count": 551,
   "id": "e0f3fd08",
   "metadata": {},
   "outputs": [],
   "source": [
    "class MultilabelEncoder():\n",
    "    \"\"\"\n",
    "    - This encoder converts the personality types into 4-column label representing the four axis of MBTI personality types.\n",
    "    - The transform function takes in an array or a list of personality types in String format, and return an nx4 shape matrix,\n",
    "        'n' being the batch size.\n",
    "    - The inverse transform takes in an nx4 matrix and returns a vector of size nx1.\n",
    "    \"\"\"\n",
    "    def __init__(self):\n",
    "        self.label_dict_ = {}\n",
    "        self.group_list = [('I','E'), ('N','S'), ('T','F'), ('J','P')]\n",
    "        \n",
    "    def fit(self):\n",
    "        for tup in self.group_list:\n",
    "            for i in range(len(tup)):\n",
    "                self.label_dict_[tup[i]] = i\n",
    "    \n",
    "    def transform(self, rawclasses:np.ndarray)->np.ndarray:\n",
    "        if isinstance(rawclasses, str):\n",
    "            rawclasses = np.array([rawclasses])\n",
    "            \n",
    "        if not (isinstance(rawclasses, np.ndarray) or isinstance(rawclasses, list)):\n",
    "            raise Exception(\"Invalid datatype. Expect a list or array of strings.\")\n",
    "        \n",
    "        labellist = []\n",
    "        for cl in rawclasses:\n",
    "            labelrow = []\n",
    "            for ele in str(cl):\n",
    "                labelrow.append(self.label_dict_[ele])\n",
    "            labellist.append(labelrow)\n",
    "        return np.array(labellist)\n",
    "    \n",
    "    def inverse_transform(self, labelrows:np.ndarray)->np.ndarray:\n",
    "        if isinstance(labelrows, list):\n",
    "            labelrows = np.array(labelrows)\n",
    "        \n",
    "        if not isinstance(labelrows, np.ndarray):\n",
    "            raise Exception(\"Invalid datatype. Expect a list or array of multilabels.\")\n",
    "        \n",
    "        if len(labelrows.shape) == 1:\n",
    "            np.expand_dims(labelrows, axis=0)\n",
    "            \n",
    "        rawclasses = []\n",
    "        for labelrow in labelrows:\n",
    "            label = \"\"\n",
    "            for i in range(len(labelrow)):\n",
    "                label += self.group_list[i][labelrow[i]]\n",
    "            rawclasses.append(label)\n",
    "        return np.array(rawclasses)"
   ]
  },
  {
   "cell_type": "code",
   "execution_count": 552,
   "id": "50685249",
   "metadata": {},
   "outputs": [],
   "source": [
    "lab_encoder_ml = MultilabelEncoder()\n",
    "lab_encoder_ml.fit()"
   ]
  },
  {
   "cell_type": "code",
   "execution_count": 554,
   "id": "3ff307d7",
   "metadata": {},
   "outputs": [
    {
     "name": "stderr",
     "output_type": "stream",
     "text": [
      "8675it [00:00, 10269.86it/s]\n"
     ]
    }
   ],
   "source": [
    "###### Run this only after running pre_process_data in multiclass section\n",
    "def pre_process_data2(data):\n",
    "    list_personality = []\n",
    "    len_data = len(data)\n",
    "    \n",
    "    for row in tqdm(data.iterrows()):\n",
    "        type_labelized = lab_encoder_ml.transform([row[1].type])[0]\n",
    "        list_personality.append(type_labelized)\n",
    "        \n",
    "    list_personality = np.array(list_personality)\n",
    "    \n",
    "    return list_personality\n",
    "\n",
    "list_personality = pre_process_data(data)"
   ]
  },
  {
   "cell_type": "code",
   "execution_count": 555,
   "id": "6467f570",
   "metadata": {},
   "outputs": [],
   "source": [
    "from sklearn.model_selection import train_test_split\n",
    "train_post, test_post, train_type, test_type = train_test_split(list_posts, list_personality, test_size = 0.2,\n",
    "                                                                random_state = 42, stratify = list_personality)"
   ]
  },
  {
   "cell_type": "markdown",
   "id": "39a7c3d7",
   "metadata": {},
   "source": [
    "**For the following experiments with MultiOutputClassifiers, the trainig was not done using k-fold cross validation, because the sklearn in-built function does not support multilabel targets.**\n",
    "\n",
    "So instead, we have a hold-out validation set apart from the test set. The training is done on the X_train_use set and validated on X_train_hold set."
   ]
  },
  {
   "cell_type": "code",
   "execution_count": 556,
   "id": "03c7cbe9",
   "metadata": {},
   "outputs": [],
   "source": [
    "X_train_use, X_train_hold, Y_train_use, Y_train_hold = train_test_split(train_post, train_type, test_size = 0.2,\n",
    "                                                                random_state = 42, stratify = train_type)"
   ]
  },
  {
   "cell_type": "code",
   "execution_count": 557,
   "id": "74203c9c",
   "metadata": {},
   "outputs": [],
   "source": [
    "X_train_use = vectorizer.transform(X_train_use).toarray()\n",
    "X_train_hold = vectorizer.transform(X_train_hold).toarray()\n",
    "X_test = vectorizer.transform(test_post).toarray()\n",
    "Y_train_use = np.array(Y_train_use)\n",
    "Y_train_hold = np.array(Y_train_hold)\n",
    "Y_test = np.array(test_type)"
   ]
  },
  {
   "cell_type": "code",
   "execution_count": 558,
   "id": "941a5d53",
   "metadata": {},
   "outputs": [
    {
     "name": "stdout",
     "output_type": "stream",
     "text": [
      "(5552, 796) (1388, 796) <class 'numpy.ndarray'> (5552, 4) (1388, 4) <class 'numpy.ndarray'>\n"
     ]
    }
   ],
   "source": [
    "print(X_train_use.shape, X_train_hold.shape, type(X_train), Y_train_use.shape, Y_train_hold.shape, type(Y_train))"
   ]
  },
  {
   "cell_type": "markdown",
   "id": "9e6801a0",
   "metadata": {},
   "source": [
    "# GaussianNB"
   ]
  },
  {
   "cell_type": "code",
   "execution_count": 560,
   "id": "485649ce",
   "metadata": {},
   "outputs": [],
   "source": [
    "from sklearn.naive_bayes import GaussianNB"
   ]
  },
  {
   "cell_type": "code",
   "execution_count": 561,
   "id": "f161b796",
   "metadata": {},
   "outputs": [
    {
     "data": {
      "text/html": [
       "<style>#sk-container-id-12 {color: black;background-color: white;}#sk-container-id-12 pre{padding: 0;}#sk-container-id-12 div.sk-toggleable {background-color: white;}#sk-container-id-12 label.sk-toggleable__label {cursor: pointer;display: block;width: 100%;margin-bottom: 0;padding: 0.3em;box-sizing: border-box;text-align: center;}#sk-container-id-12 label.sk-toggleable__label-arrow:before {content: \"▸\";float: left;margin-right: 0.25em;color: #696969;}#sk-container-id-12 label.sk-toggleable__label-arrow:hover:before {color: black;}#sk-container-id-12 div.sk-estimator:hover label.sk-toggleable__label-arrow:before {color: black;}#sk-container-id-12 div.sk-toggleable__content {max-height: 0;max-width: 0;overflow: hidden;text-align: left;background-color: #f0f8ff;}#sk-container-id-12 div.sk-toggleable__content pre {margin: 0.2em;color: black;border-radius: 0.25em;background-color: #f0f8ff;}#sk-container-id-12 input.sk-toggleable__control:checked~div.sk-toggleable__content {max-height: 200px;max-width: 100%;overflow: auto;}#sk-container-id-12 input.sk-toggleable__control:checked~label.sk-toggleable__label-arrow:before {content: \"▾\";}#sk-container-id-12 div.sk-estimator input.sk-toggleable__control:checked~label.sk-toggleable__label {background-color: #d4ebff;}#sk-container-id-12 div.sk-label input.sk-toggleable__control:checked~label.sk-toggleable__label {background-color: #d4ebff;}#sk-container-id-12 input.sk-hidden--visually {border: 0;clip: rect(1px 1px 1px 1px);clip: rect(1px, 1px, 1px, 1px);height: 1px;margin: -1px;overflow: hidden;padding: 0;position: absolute;width: 1px;}#sk-container-id-12 div.sk-estimator {font-family: monospace;background-color: #f0f8ff;border: 1px dotted black;border-radius: 0.25em;box-sizing: border-box;margin-bottom: 0.5em;}#sk-container-id-12 div.sk-estimator:hover {background-color: #d4ebff;}#sk-container-id-12 div.sk-parallel-item::after {content: \"\";width: 100%;border-bottom: 1px solid gray;flex-grow: 1;}#sk-container-id-12 div.sk-label:hover label.sk-toggleable__label {background-color: #d4ebff;}#sk-container-id-12 div.sk-serial::before {content: \"\";position: absolute;border-left: 1px solid gray;box-sizing: border-box;top: 0;bottom: 0;left: 50%;z-index: 0;}#sk-container-id-12 div.sk-serial {display: flex;flex-direction: column;align-items: center;background-color: white;padding-right: 0.2em;padding-left: 0.2em;position: relative;}#sk-container-id-12 div.sk-item {position: relative;z-index: 1;}#sk-container-id-12 div.sk-parallel {display: flex;align-items: stretch;justify-content: center;background-color: white;position: relative;}#sk-container-id-12 div.sk-item::before, #sk-container-id-12 div.sk-parallel-item::before {content: \"\";position: absolute;border-left: 1px solid gray;box-sizing: border-box;top: 0;bottom: 0;left: 50%;z-index: -1;}#sk-container-id-12 div.sk-parallel-item {display: flex;flex-direction: column;z-index: 1;position: relative;background-color: white;}#sk-container-id-12 div.sk-parallel-item:first-child::after {align-self: flex-end;width: 50%;}#sk-container-id-12 div.sk-parallel-item:last-child::after {align-self: flex-start;width: 50%;}#sk-container-id-12 div.sk-parallel-item:only-child::after {width: 0;}#sk-container-id-12 div.sk-dashed-wrapped {border: 1px dashed gray;margin: 0 0.4em 0.5em 0.4em;box-sizing: border-box;padding-bottom: 0.4em;background-color: white;}#sk-container-id-12 div.sk-label label {font-family: monospace;font-weight: bold;display: inline-block;line-height: 1.2em;}#sk-container-id-12 div.sk-label-container {text-align: center;}#sk-container-id-12 div.sk-container {/* jupyter's `normalize.less` sets `[hidden] { display: none; }` but bootstrap.min.css set `[hidden] { display: none !important; }` so we also need the `!important` here to be able to override the default hidden behavior on the sphinx rendered scikit-learn.org. See: https://github.com/scikit-learn/scikit-learn/issues/21755 */display: inline-block !important;position: relative;}#sk-container-id-12 div.sk-text-repr-fallback {display: none;}</style><div id=\"sk-container-id-12\" class=\"sk-top-container\"><div class=\"sk-text-repr-fallback\"><pre>MultiOutputClassifier(estimator=GaussianNB(), n_jobs=-1)</pre><b>In a Jupyter environment, please rerun this cell to show the HTML representation or trust the notebook. <br />On GitHub, the HTML representation is unable to render, please try loading this page with nbviewer.org.</b></div><div class=\"sk-container\" hidden><div class=\"sk-item sk-dashed-wrapped\"><div class=\"sk-label-container\"><div class=\"sk-label sk-toggleable\"><input class=\"sk-toggleable__control sk-hidden--visually\" id=\"sk-estimator-id-28\" type=\"checkbox\" ><label for=\"sk-estimator-id-28\" class=\"sk-toggleable__label sk-toggleable__label-arrow\">MultiOutputClassifier</label><div class=\"sk-toggleable__content\"><pre>MultiOutputClassifier(estimator=GaussianNB(), n_jobs=-1)</pre></div></div></div><div class=\"sk-parallel\"><div class=\"sk-parallel-item\"><div class=\"sk-item\"><div class=\"sk-label-container\"><div class=\"sk-label sk-toggleable\"><input class=\"sk-toggleable__control sk-hidden--visually\" id=\"sk-estimator-id-29\" type=\"checkbox\" ><label for=\"sk-estimator-id-29\" class=\"sk-toggleable__label sk-toggleable__label-arrow\">estimator: GaussianNB</label><div class=\"sk-toggleable__content\"><pre>GaussianNB()</pre></div></div></div><div class=\"sk-serial\"><div class=\"sk-item\"><div class=\"sk-estimator sk-toggleable\"><input class=\"sk-toggleable__control sk-hidden--visually\" id=\"sk-estimator-id-30\" type=\"checkbox\" ><label for=\"sk-estimator-id-30\" class=\"sk-toggleable__label sk-toggleable__label-arrow\">GaussianNB</label><div class=\"sk-toggleable__content\"><pre>GaussianNB()</pre></div></div></div></div></div></div></div></div></div></div>"
      ],
      "text/plain": [
       "MultiOutputClassifier(estimator=GaussianNB(), n_jobs=-1)"
      ]
     },
     "execution_count": 561,
     "metadata": {},
     "output_type": "execute_result"
    }
   ],
   "source": [
    "gnbcls = MultiOutputClassifier(GaussianNB(), n_jobs=-1)\n",
    "gnbcls.fit(X_train_use, Y_train_use)"
   ]
  },
  {
   "cell_type": "code",
   "execution_count": 562,
   "id": "74ba1bf3",
   "metadata": {},
   "outputs": [],
   "source": [
    "Y_pred = gnbcls.predict(X_train_hold)\n",
    "scores = fit_metrics(Y_train_hold, Y_pred)"
   ]
  },
  {
   "cell_type": "code",
   "execution_count": 563,
   "id": "bf8a9fbd",
   "metadata": {},
   "outputs": [
    {
     "name": "stdout",
     "output_type": "stream",
     "text": [
      "0.38328530259365995\n"
     ]
    }
   ],
   "source": [
    "print(scores[\"accuracy\"])"
   ]
  },
  {
   "cell_type": "code",
   "execution_count": 564,
   "id": "022a719c",
   "metadata": {},
   "outputs": [
    {
     "name": "stdout",
     "output_type": "stream",
     "text": [
      "F1 micro : 0.6949421637559539\n",
      "F1 macro : 0.6400478302555361\n",
      "F1 weighted : 0.7090675359248617\n"
     ]
    }
   ],
   "source": [
    "for metric in [\"micro\", \"macro\", \"weighted\"]:\n",
    "    print(\"F1 \"+metric,\":\", scores[\"f1_\"+metric])"
   ]
  },
  {
   "cell_type": "code",
   "execution_count": 565,
   "id": "46c64be6",
   "metadata": {},
   "outputs": [],
   "source": [
    "with open(\"mbti-multilabel-gnbcls-scores.pkl\", \"wb\") as pklfile:\n",
    "    pickle.dump(scores, pklfile)\n",
    "    pklfile.close()"
   ]
  },
  {
   "cell_type": "markdown",
   "id": "0550b9f8",
   "metadata": {},
   "source": [
    "# Logistic Regression"
   ]
  },
  {
   "cell_type": "code",
   "execution_count": 566,
   "id": "e3cdf480",
   "metadata": {},
   "outputs": [],
   "source": [
    "from sklearn.linear_model import LogisticRegression"
   ]
  },
  {
   "cell_type": "code",
   "execution_count": 567,
   "id": "c0cce619",
   "metadata": {},
   "outputs": [
    {
     "name": "stdout",
     "output_type": "stream",
     "text": [
      "CPU times: total: 46.9 ms\n",
      "Wall time: 952 ms\n"
     ]
    },
    {
     "data": {
      "text/html": [
       "<style>#sk-container-id-13 {color: black;background-color: white;}#sk-container-id-13 pre{padding: 0;}#sk-container-id-13 div.sk-toggleable {background-color: white;}#sk-container-id-13 label.sk-toggleable__label {cursor: pointer;display: block;width: 100%;margin-bottom: 0;padding: 0.3em;box-sizing: border-box;text-align: center;}#sk-container-id-13 label.sk-toggleable__label-arrow:before {content: \"▸\";float: left;margin-right: 0.25em;color: #696969;}#sk-container-id-13 label.sk-toggleable__label-arrow:hover:before {color: black;}#sk-container-id-13 div.sk-estimator:hover label.sk-toggleable__label-arrow:before {color: black;}#sk-container-id-13 div.sk-toggleable__content {max-height: 0;max-width: 0;overflow: hidden;text-align: left;background-color: #f0f8ff;}#sk-container-id-13 div.sk-toggleable__content pre {margin: 0.2em;color: black;border-radius: 0.25em;background-color: #f0f8ff;}#sk-container-id-13 input.sk-toggleable__control:checked~div.sk-toggleable__content {max-height: 200px;max-width: 100%;overflow: auto;}#sk-container-id-13 input.sk-toggleable__control:checked~label.sk-toggleable__label-arrow:before {content: \"▾\";}#sk-container-id-13 div.sk-estimator input.sk-toggleable__control:checked~label.sk-toggleable__label {background-color: #d4ebff;}#sk-container-id-13 div.sk-label input.sk-toggleable__control:checked~label.sk-toggleable__label {background-color: #d4ebff;}#sk-container-id-13 input.sk-hidden--visually {border: 0;clip: rect(1px 1px 1px 1px);clip: rect(1px, 1px, 1px, 1px);height: 1px;margin: -1px;overflow: hidden;padding: 0;position: absolute;width: 1px;}#sk-container-id-13 div.sk-estimator {font-family: monospace;background-color: #f0f8ff;border: 1px dotted black;border-radius: 0.25em;box-sizing: border-box;margin-bottom: 0.5em;}#sk-container-id-13 div.sk-estimator:hover {background-color: #d4ebff;}#sk-container-id-13 div.sk-parallel-item::after {content: \"\";width: 100%;border-bottom: 1px solid gray;flex-grow: 1;}#sk-container-id-13 div.sk-label:hover label.sk-toggleable__label {background-color: #d4ebff;}#sk-container-id-13 div.sk-serial::before {content: \"\";position: absolute;border-left: 1px solid gray;box-sizing: border-box;top: 0;bottom: 0;left: 50%;z-index: 0;}#sk-container-id-13 div.sk-serial {display: flex;flex-direction: column;align-items: center;background-color: white;padding-right: 0.2em;padding-left: 0.2em;position: relative;}#sk-container-id-13 div.sk-item {position: relative;z-index: 1;}#sk-container-id-13 div.sk-parallel {display: flex;align-items: stretch;justify-content: center;background-color: white;position: relative;}#sk-container-id-13 div.sk-item::before, #sk-container-id-13 div.sk-parallel-item::before {content: \"\";position: absolute;border-left: 1px solid gray;box-sizing: border-box;top: 0;bottom: 0;left: 50%;z-index: -1;}#sk-container-id-13 div.sk-parallel-item {display: flex;flex-direction: column;z-index: 1;position: relative;background-color: white;}#sk-container-id-13 div.sk-parallel-item:first-child::after {align-self: flex-end;width: 50%;}#sk-container-id-13 div.sk-parallel-item:last-child::after {align-self: flex-start;width: 50%;}#sk-container-id-13 div.sk-parallel-item:only-child::after {width: 0;}#sk-container-id-13 div.sk-dashed-wrapped {border: 1px dashed gray;margin: 0 0.4em 0.5em 0.4em;box-sizing: border-box;padding-bottom: 0.4em;background-color: white;}#sk-container-id-13 div.sk-label label {font-family: monospace;font-weight: bold;display: inline-block;line-height: 1.2em;}#sk-container-id-13 div.sk-label-container {text-align: center;}#sk-container-id-13 div.sk-container {/* jupyter's `normalize.less` sets `[hidden] { display: none; }` but bootstrap.min.css set `[hidden] { display: none !important; }` so we also need the `!important` here to be able to override the default hidden behavior on the sphinx rendered scikit-learn.org. See: https://github.com/scikit-learn/scikit-learn/issues/21755 */display: inline-block !important;position: relative;}#sk-container-id-13 div.sk-text-repr-fallback {display: none;}</style><div id=\"sk-container-id-13\" class=\"sk-top-container\"><div class=\"sk-text-repr-fallback\"><pre>MultiOutputClassifier(estimator=LogisticRegression(max_iter=3000), n_jobs=-1)</pre><b>In a Jupyter environment, please rerun this cell to show the HTML representation or trust the notebook. <br />On GitHub, the HTML representation is unable to render, please try loading this page with nbviewer.org.</b></div><div class=\"sk-container\" hidden><div class=\"sk-item sk-dashed-wrapped\"><div class=\"sk-label-container\"><div class=\"sk-label sk-toggleable\"><input class=\"sk-toggleable__control sk-hidden--visually\" id=\"sk-estimator-id-31\" type=\"checkbox\" ><label for=\"sk-estimator-id-31\" class=\"sk-toggleable__label sk-toggleable__label-arrow\">MultiOutputClassifier</label><div class=\"sk-toggleable__content\"><pre>MultiOutputClassifier(estimator=LogisticRegression(max_iter=3000), n_jobs=-1)</pre></div></div></div><div class=\"sk-parallel\"><div class=\"sk-parallel-item\"><div class=\"sk-item\"><div class=\"sk-label-container\"><div class=\"sk-label sk-toggleable\"><input class=\"sk-toggleable__control sk-hidden--visually\" id=\"sk-estimator-id-32\" type=\"checkbox\" ><label for=\"sk-estimator-id-32\" class=\"sk-toggleable__label sk-toggleable__label-arrow\">estimator: LogisticRegression</label><div class=\"sk-toggleable__content\"><pre>LogisticRegression(max_iter=3000)</pre></div></div></div><div class=\"sk-serial\"><div class=\"sk-item\"><div class=\"sk-estimator sk-toggleable\"><input class=\"sk-toggleable__control sk-hidden--visually\" id=\"sk-estimator-id-33\" type=\"checkbox\" ><label for=\"sk-estimator-id-33\" class=\"sk-toggleable__label sk-toggleable__label-arrow\">LogisticRegression</label><div class=\"sk-toggleable__content\"><pre>LogisticRegression(max_iter=3000)</pre></div></div></div></div></div></div></div></div></div></div>"
      ],
      "text/plain": [
       "MultiOutputClassifier(estimator=LogisticRegression(max_iter=3000), n_jobs=-1)"
      ]
     },
     "execution_count": 567,
     "metadata": {},
     "output_type": "execute_result"
    }
   ],
   "source": [
    "%%time\n",
    "lrcls_ml = MultiOutputClassifier(LogisticRegression(max_iter=3000), n_jobs=-1)\n",
    "lrcls_ml.fit(X_train_use, Y_train_use)"
   ]
  },
  {
   "cell_type": "code",
   "execution_count": 568,
   "id": "6a249caa",
   "metadata": {},
   "outputs": [],
   "source": [
    "Y_pred = lrcls_ml.predict(X_train_hold)\n",
    "scores = fit_metrics(Y_train_hold, Y_pred)"
   ]
  },
  {
   "cell_type": "code",
   "execution_count": 569,
   "id": "9ad7525f",
   "metadata": {},
   "outputs": [
    {
     "name": "stdout",
     "output_type": "stream",
     "text": [
      "0.55835734870317\n"
     ]
    }
   ],
   "source": [
    "print(scores[\"accuracy\"])"
   ]
  },
  {
   "cell_type": "code",
   "execution_count": 570,
   "id": "ebe0dd9f",
   "metadata": {},
   "outputs": [
    {
     "name": "stdout",
     "output_type": "stream",
     "text": [
      "F1 micro : 0.7837837837837838\n",
      "F1 macro : 0.664685769486409\n",
      "F1 weighted : 0.7641657411327551\n"
     ]
    }
   ],
   "source": [
    "for metric in [\"micro\", \"macro\", \"weighted\"]:\n",
    "    print(\"F1 \"+metric,\":\", scores[\"f1_\"+metric])"
   ]
  },
  {
   "cell_type": "code",
   "execution_count": 571,
   "id": "ba2279a8",
   "metadata": {},
   "outputs": [],
   "source": [
    "with open(\"mbti-multilabel-lrcls-scores.pkl\", \"wb\") as pklfile:\n",
    "    pickle.dump(scores, pklfile)\n",
    "    pklfile.close()"
   ]
  },
  {
   "cell_type": "markdown",
   "id": "d04dfbf6",
   "metadata": {},
   "source": [
    "# Random Forest Classifier"
   ]
  },
  {
   "cell_type": "code",
   "execution_count": 572,
   "id": "3bb1976b",
   "metadata": {},
   "outputs": [],
   "source": [
    "from sklearn.ensemble import RandomForestClassifier"
   ]
  },
  {
   "cell_type": "code",
   "execution_count": 573,
   "id": "aac7f9e0",
   "metadata": {},
   "outputs": [
    {
     "name": "stdout",
     "output_type": "stream",
     "text": [
      "CPU times: total: 203 ms\n",
      "Wall time: 7.53 s\n"
     ]
    },
    {
     "data": {
      "text/html": [
       "<style>#sk-container-id-14 {color: black;background-color: white;}#sk-container-id-14 pre{padding: 0;}#sk-container-id-14 div.sk-toggleable {background-color: white;}#sk-container-id-14 label.sk-toggleable__label {cursor: pointer;display: block;width: 100%;margin-bottom: 0;padding: 0.3em;box-sizing: border-box;text-align: center;}#sk-container-id-14 label.sk-toggleable__label-arrow:before {content: \"▸\";float: left;margin-right: 0.25em;color: #696969;}#sk-container-id-14 label.sk-toggleable__label-arrow:hover:before {color: black;}#sk-container-id-14 div.sk-estimator:hover label.sk-toggleable__label-arrow:before {color: black;}#sk-container-id-14 div.sk-toggleable__content {max-height: 0;max-width: 0;overflow: hidden;text-align: left;background-color: #f0f8ff;}#sk-container-id-14 div.sk-toggleable__content pre {margin: 0.2em;color: black;border-radius: 0.25em;background-color: #f0f8ff;}#sk-container-id-14 input.sk-toggleable__control:checked~div.sk-toggleable__content {max-height: 200px;max-width: 100%;overflow: auto;}#sk-container-id-14 input.sk-toggleable__control:checked~label.sk-toggleable__label-arrow:before {content: \"▾\";}#sk-container-id-14 div.sk-estimator input.sk-toggleable__control:checked~label.sk-toggleable__label {background-color: #d4ebff;}#sk-container-id-14 div.sk-label input.sk-toggleable__control:checked~label.sk-toggleable__label {background-color: #d4ebff;}#sk-container-id-14 input.sk-hidden--visually {border: 0;clip: rect(1px 1px 1px 1px);clip: rect(1px, 1px, 1px, 1px);height: 1px;margin: -1px;overflow: hidden;padding: 0;position: absolute;width: 1px;}#sk-container-id-14 div.sk-estimator {font-family: monospace;background-color: #f0f8ff;border: 1px dotted black;border-radius: 0.25em;box-sizing: border-box;margin-bottom: 0.5em;}#sk-container-id-14 div.sk-estimator:hover {background-color: #d4ebff;}#sk-container-id-14 div.sk-parallel-item::after {content: \"\";width: 100%;border-bottom: 1px solid gray;flex-grow: 1;}#sk-container-id-14 div.sk-label:hover label.sk-toggleable__label {background-color: #d4ebff;}#sk-container-id-14 div.sk-serial::before {content: \"\";position: absolute;border-left: 1px solid gray;box-sizing: border-box;top: 0;bottom: 0;left: 50%;z-index: 0;}#sk-container-id-14 div.sk-serial {display: flex;flex-direction: column;align-items: center;background-color: white;padding-right: 0.2em;padding-left: 0.2em;position: relative;}#sk-container-id-14 div.sk-item {position: relative;z-index: 1;}#sk-container-id-14 div.sk-parallel {display: flex;align-items: stretch;justify-content: center;background-color: white;position: relative;}#sk-container-id-14 div.sk-item::before, #sk-container-id-14 div.sk-parallel-item::before {content: \"\";position: absolute;border-left: 1px solid gray;box-sizing: border-box;top: 0;bottom: 0;left: 50%;z-index: -1;}#sk-container-id-14 div.sk-parallel-item {display: flex;flex-direction: column;z-index: 1;position: relative;background-color: white;}#sk-container-id-14 div.sk-parallel-item:first-child::after {align-self: flex-end;width: 50%;}#sk-container-id-14 div.sk-parallel-item:last-child::after {align-self: flex-start;width: 50%;}#sk-container-id-14 div.sk-parallel-item:only-child::after {width: 0;}#sk-container-id-14 div.sk-dashed-wrapped {border: 1px dashed gray;margin: 0 0.4em 0.5em 0.4em;box-sizing: border-box;padding-bottom: 0.4em;background-color: white;}#sk-container-id-14 div.sk-label label {font-family: monospace;font-weight: bold;display: inline-block;line-height: 1.2em;}#sk-container-id-14 div.sk-label-container {text-align: center;}#sk-container-id-14 div.sk-container {/* jupyter's `normalize.less` sets `[hidden] { display: none; }` but bootstrap.min.css set `[hidden] { display: none !important; }` so we also need the `!important` here to be able to override the default hidden behavior on the sphinx rendered scikit-learn.org. See: https://github.com/scikit-learn/scikit-learn/issues/21755 */display: inline-block !important;position: relative;}#sk-container-id-14 div.sk-text-repr-fallback {display: none;}</style><div id=\"sk-container-id-14\" class=\"sk-top-container\"><div class=\"sk-text-repr-fallback\"><pre>MultiOutputClassifier(estimator=RandomForestClassifier(max_depth=14,\n",
       "                                                       n_estimators=200,\n",
       "                                                       random_state=42),\n",
       "                      n_jobs=-1)</pre><b>In a Jupyter environment, please rerun this cell to show the HTML representation or trust the notebook. <br />On GitHub, the HTML representation is unable to render, please try loading this page with nbviewer.org.</b></div><div class=\"sk-container\" hidden><div class=\"sk-item sk-dashed-wrapped\"><div class=\"sk-label-container\"><div class=\"sk-label sk-toggleable\"><input class=\"sk-toggleable__control sk-hidden--visually\" id=\"sk-estimator-id-34\" type=\"checkbox\" ><label for=\"sk-estimator-id-34\" class=\"sk-toggleable__label sk-toggleable__label-arrow\">MultiOutputClassifier</label><div class=\"sk-toggleable__content\"><pre>MultiOutputClassifier(estimator=RandomForestClassifier(max_depth=14,\n",
       "                                                       n_estimators=200,\n",
       "                                                       random_state=42),\n",
       "                      n_jobs=-1)</pre></div></div></div><div class=\"sk-parallel\"><div class=\"sk-parallel-item\"><div class=\"sk-item\"><div class=\"sk-label-container\"><div class=\"sk-label sk-toggleable\"><input class=\"sk-toggleable__control sk-hidden--visually\" id=\"sk-estimator-id-35\" type=\"checkbox\" ><label for=\"sk-estimator-id-35\" class=\"sk-toggleable__label sk-toggleable__label-arrow\">estimator: RandomForestClassifier</label><div class=\"sk-toggleable__content\"><pre>RandomForestClassifier(max_depth=14, n_estimators=200, random_state=42)</pre></div></div></div><div class=\"sk-serial\"><div class=\"sk-item\"><div class=\"sk-estimator sk-toggleable\"><input class=\"sk-toggleable__control sk-hidden--visually\" id=\"sk-estimator-id-36\" type=\"checkbox\" ><label for=\"sk-estimator-id-36\" class=\"sk-toggleable__label sk-toggleable__label-arrow\">RandomForestClassifier</label><div class=\"sk-toggleable__content\"><pre>RandomForestClassifier(max_depth=14, n_estimators=200, random_state=42)</pre></div></div></div></div></div></div></div></div></div></div>"
      ],
      "text/plain": [
       "MultiOutputClassifier(estimator=RandomForestClassifier(max_depth=14,\n",
       "                                                       n_estimators=200,\n",
       "                                                       random_state=42),\n",
       "                      n_jobs=-1)"
      ]
     },
     "execution_count": 573,
     "metadata": {},
     "output_type": "execute_result"
    }
   ],
   "source": [
    "%%time\n",
    "rfcls_ml_params = {\"max_depth\":14, \"max_features\":'sqrt', \"min_samples_leaf\":1,\n",
    "                               \"min_samples_split\":2, \"n_estimators\":200, \"random_state\":42}\n",
    "rfcls_ml = MultiOutputClassifier(RandomForestClassifier(**rfcls_ml_params), n_jobs=-1)\n",
    "rfcls_ml.fit(X_train_use, Y_train_use)"
   ]
  },
  {
   "cell_type": "code",
   "execution_count": 574,
   "id": "9f3676e2",
   "metadata": {},
   "outputs": [],
   "source": [
    "Y_pred = rfcls_ml.predict(X_train_hold)\n",
    "scores = fit_metrics(Y_train_hold, Y_pred)"
   ]
  },
  {
   "cell_type": "code",
   "execution_count": 575,
   "id": "08128eed",
   "metadata": {},
   "outputs": [
    {
     "name": "stdout",
     "output_type": "stream",
     "text": [
      "0.45821325648414984\n"
     ]
    }
   ],
   "source": [
    "print(scores[\"accuracy\"])"
   ]
  },
  {
   "cell_type": "code",
   "execution_count": 576,
   "id": "70a41115",
   "metadata": {},
   "outputs": [
    {
     "name": "stdout",
     "output_type": "stream",
     "text": [
      "F1 micro : 0.7317791411042944\n",
      "F1 macro : 0.4514217169786311\n",
      "F1 weighted : 0.6499023749465032\n"
     ]
    }
   ],
   "source": [
    "for metric in [\"micro\", \"macro\", \"weighted\"]:\n",
    "    print(\"F1 \"+metric,\":\", scores[\"f1_\"+metric])"
   ]
  },
  {
   "cell_type": "code",
   "execution_count": 577,
   "id": "9235ed6d",
   "metadata": {},
   "outputs": [],
   "source": [
    "with open(\"mbti-multilabel-rfcls-scores.pkl\", \"wb\") as pklfile:\n",
    "    pickle.dump(scores, pklfile)\n",
    "    pklfile.close()"
   ]
  },
  {
   "cell_type": "markdown",
   "id": "20915793",
   "metadata": {},
   "source": [
    "# Stochastic Gradient Descent Classifier"
   ]
  },
  {
   "cell_type": "code",
   "execution_count": 578,
   "id": "bc6eb4cf",
   "metadata": {},
   "outputs": [],
   "source": [
    "from sklearn.linear_model import SGDClassifier"
   ]
  },
  {
   "cell_type": "code",
   "execution_count": 579,
   "id": "d0f8ad03",
   "metadata": {},
   "outputs": [
    {
     "name": "stdout",
     "output_type": "stream",
     "text": [
      "CPU times: total: 62.5 ms\n",
      "Wall time: 798 ms\n"
     ]
    },
    {
     "data": {
      "text/html": [
       "<style>#sk-container-id-15 {color: black;background-color: white;}#sk-container-id-15 pre{padding: 0;}#sk-container-id-15 div.sk-toggleable {background-color: white;}#sk-container-id-15 label.sk-toggleable__label {cursor: pointer;display: block;width: 100%;margin-bottom: 0;padding: 0.3em;box-sizing: border-box;text-align: center;}#sk-container-id-15 label.sk-toggleable__label-arrow:before {content: \"▸\";float: left;margin-right: 0.25em;color: #696969;}#sk-container-id-15 label.sk-toggleable__label-arrow:hover:before {color: black;}#sk-container-id-15 div.sk-estimator:hover label.sk-toggleable__label-arrow:before {color: black;}#sk-container-id-15 div.sk-toggleable__content {max-height: 0;max-width: 0;overflow: hidden;text-align: left;background-color: #f0f8ff;}#sk-container-id-15 div.sk-toggleable__content pre {margin: 0.2em;color: black;border-radius: 0.25em;background-color: #f0f8ff;}#sk-container-id-15 input.sk-toggleable__control:checked~div.sk-toggleable__content {max-height: 200px;max-width: 100%;overflow: auto;}#sk-container-id-15 input.sk-toggleable__control:checked~label.sk-toggleable__label-arrow:before {content: \"▾\";}#sk-container-id-15 div.sk-estimator input.sk-toggleable__control:checked~label.sk-toggleable__label {background-color: #d4ebff;}#sk-container-id-15 div.sk-label input.sk-toggleable__control:checked~label.sk-toggleable__label {background-color: #d4ebff;}#sk-container-id-15 input.sk-hidden--visually {border: 0;clip: rect(1px 1px 1px 1px);clip: rect(1px, 1px, 1px, 1px);height: 1px;margin: -1px;overflow: hidden;padding: 0;position: absolute;width: 1px;}#sk-container-id-15 div.sk-estimator {font-family: monospace;background-color: #f0f8ff;border: 1px dotted black;border-radius: 0.25em;box-sizing: border-box;margin-bottom: 0.5em;}#sk-container-id-15 div.sk-estimator:hover {background-color: #d4ebff;}#sk-container-id-15 div.sk-parallel-item::after {content: \"\";width: 100%;border-bottom: 1px solid gray;flex-grow: 1;}#sk-container-id-15 div.sk-label:hover label.sk-toggleable__label {background-color: #d4ebff;}#sk-container-id-15 div.sk-serial::before {content: \"\";position: absolute;border-left: 1px solid gray;box-sizing: border-box;top: 0;bottom: 0;left: 50%;z-index: 0;}#sk-container-id-15 div.sk-serial {display: flex;flex-direction: column;align-items: center;background-color: white;padding-right: 0.2em;padding-left: 0.2em;position: relative;}#sk-container-id-15 div.sk-item {position: relative;z-index: 1;}#sk-container-id-15 div.sk-parallel {display: flex;align-items: stretch;justify-content: center;background-color: white;position: relative;}#sk-container-id-15 div.sk-item::before, #sk-container-id-15 div.sk-parallel-item::before {content: \"\";position: absolute;border-left: 1px solid gray;box-sizing: border-box;top: 0;bottom: 0;left: 50%;z-index: -1;}#sk-container-id-15 div.sk-parallel-item {display: flex;flex-direction: column;z-index: 1;position: relative;background-color: white;}#sk-container-id-15 div.sk-parallel-item:first-child::after {align-self: flex-end;width: 50%;}#sk-container-id-15 div.sk-parallel-item:last-child::after {align-self: flex-start;width: 50%;}#sk-container-id-15 div.sk-parallel-item:only-child::after {width: 0;}#sk-container-id-15 div.sk-dashed-wrapped {border: 1px dashed gray;margin: 0 0.4em 0.5em 0.4em;box-sizing: border-box;padding-bottom: 0.4em;background-color: white;}#sk-container-id-15 div.sk-label label {font-family: monospace;font-weight: bold;display: inline-block;line-height: 1.2em;}#sk-container-id-15 div.sk-label-container {text-align: center;}#sk-container-id-15 div.sk-container {/* jupyter's `normalize.less` sets `[hidden] { display: none; }` but bootstrap.min.css set `[hidden] { display: none !important; }` so we also need the `!important` here to be able to override the default hidden behavior on the sphinx rendered scikit-learn.org. See: https://github.com/scikit-learn/scikit-learn/issues/21755 */display: inline-block !important;position: relative;}#sk-container-id-15 div.sk-text-repr-fallback {display: none;}</style><div id=\"sk-container-id-15\" class=\"sk-top-container\"><div class=\"sk-text-repr-fallback\"><pre>MultiOutputClassifier(estimator=SGDClassifier(loss=&#x27;log_loss&#x27;, max_iter=40,\n",
       "                                              random_state=42, tol=None),\n",
       "                      n_jobs=-1)</pre><b>In a Jupyter environment, please rerun this cell to show the HTML representation or trust the notebook. <br />On GitHub, the HTML representation is unable to render, please try loading this page with nbviewer.org.</b></div><div class=\"sk-container\" hidden><div class=\"sk-item sk-dashed-wrapped\"><div class=\"sk-label-container\"><div class=\"sk-label sk-toggleable\"><input class=\"sk-toggleable__control sk-hidden--visually\" id=\"sk-estimator-id-37\" type=\"checkbox\" ><label for=\"sk-estimator-id-37\" class=\"sk-toggleable__label sk-toggleable__label-arrow\">MultiOutputClassifier</label><div class=\"sk-toggleable__content\"><pre>MultiOutputClassifier(estimator=SGDClassifier(loss=&#x27;log_loss&#x27;, max_iter=40,\n",
       "                                              random_state=42, tol=None),\n",
       "                      n_jobs=-1)</pre></div></div></div><div class=\"sk-parallel\"><div class=\"sk-parallel-item\"><div class=\"sk-item\"><div class=\"sk-label-container\"><div class=\"sk-label sk-toggleable\"><input class=\"sk-toggleable__control sk-hidden--visually\" id=\"sk-estimator-id-38\" type=\"checkbox\" ><label for=\"sk-estimator-id-38\" class=\"sk-toggleable__label sk-toggleable__label-arrow\">estimator: SGDClassifier</label><div class=\"sk-toggleable__content\"><pre>SGDClassifier(loss=&#x27;log_loss&#x27;, max_iter=40, random_state=42, tol=None)</pre></div></div></div><div class=\"sk-serial\"><div class=\"sk-item\"><div class=\"sk-estimator sk-toggleable\"><input class=\"sk-toggleable__control sk-hidden--visually\" id=\"sk-estimator-id-39\" type=\"checkbox\" ><label for=\"sk-estimator-id-39\" class=\"sk-toggleable__label sk-toggleable__label-arrow\">SGDClassifier</label><div class=\"sk-toggleable__content\"><pre>SGDClassifier(loss=&#x27;log_loss&#x27;, max_iter=40, random_state=42, tol=None)</pre></div></div></div></div></div></div></div></div></div></div>"
      ],
      "text/plain": [
       "MultiOutputClassifier(estimator=SGDClassifier(loss='log_loss', max_iter=40,\n",
       "                                              random_state=42, tol=None),\n",
       "                      n_jobs=-1)"
      ]
     },
     "execution_count": 579,
     "metadata": {},
     "output_type": "execute_result"
    }
   ],
   "source": [
    "%%time\n",
    "sgdcls_ml_params = {\"loss\": \"log_loss\", \"max_iter\": 40, \"learning_rate\": \"optimal\", \"tol\": None, \"random_state\": 42}\n",
    "sgdcls_ml = MultiOutputClassifier(SGDClassifier(**sgdcls_ml_params), n_jobs=-1)\n",
    "sgdcls_ml.fit(X_train_use, Y_train_use)"
   ]
  },
  {
   "cell_type": "code",
   "execution_count": 580,
   "id": "f34f5aef",
   "metadata": {},
   "outputs": [],
   "source": [
    "Y_pred = sgdcls_ml.predict(X_train_hold)\n",
    "scores = fit_metrics(Y_train_hold, Y_pred)"
   ]
  },
  {
   "cell_type": "code",
   "execution_count": 581,
   "id": "a74787f0",
   "metadata": {},
   "outputs": [
    {
     "name": "stdout",
     "output_type": "stream",
     "text": [
      "0.5626801152737753\n"
     ]
    }
   ],
   "source": [
    "print(scores[\"accuracy\"])"
   ]
  },
  {
   "cell_type": "code",
   "execution_count": 582,
   "id": "2c2894dd",
   "metadata": {},
   "outputs": [
    {
     "name": "stdout",
     "output_type": "stream",
     "text": [
      "F1 micro : 0.7852668504134303\n",
      "F1 macro : 0.6806626182807325\n",
      "F1 weighted : 0.7703128572009793\n"
     ]
    }
   ],
   "source": [
    "for metric in [\"micro\", \"macro\", \"weighted\"]:\n",
    "    print(\"F1 \"+metric,\":\", scores[\"f1_\"+metric])"
   ]
  },
  {
   "cell_type": "code",
   "execution_count": 583,
   "id": "829abab5",
   "metadata": {},
   "outputs": [],
   "source": [
    "with open(\"mbti-multilabel-sgdcls-scores.pkl\", \"wb\") as pklfile:\n",
    "    pickle.dump(scores, pklfile)\n",
    "    pklfile.close()"
   ]
  },
  {
   "cell_type": "markdown",
   "id": "2844e3b9",
   "metadata": {},
   "source": [
    "# Support Vector Classifier"
   ]
  },
  {
   "cell_type": "code",
   "execution_count": 584,
   "id": "6adc6007",
   "metadata": {},
   "outputs": [],
   "source": [
    "from sklearn.svm import SVC"
   ]
  },
  {
   "cell_type": "code",
   "execution_count": 585,
   "id": "2ccc60ed",
   "metadata": {},
   "outputs": [
    {
     "data": {
      "text/html": [
       "<style>#sk-container-id-16 {color: black;background-color: white;}#sk-container-id-16 pre{padding: 0;}#sk-container-id-16 div.sk-toggleable {background-color: white;}#sk-container-id-16 label.sk-toggleable__label {cursor: pointer;display: block;width: 100%;margin-bottom: 0;padding: 0.3em;box-sizing: border-box;text-align: center;}#sk-container-id-16 label.sk-toggleable__label-arrow:before {content: \"▸\";float: left;margin-right: 0.25em;color: #696969;}#sk-container-id-16 label.sk-toggleable__label-arrow:hover:before {color: black;}#sk-container-id-16 div.sk-estimator:hover label.sk-toggleable__label-arrow:before {color: black;}#sk-container-id-16 div.sk-toggleable__content {max-height: 0;max-width: 0;overflow: hidden;text-align: left;background-color: #f0f8ff;}#sk-container-id-16 div.sk-toggleable__content pre {margin: 0.2em;color: black;border-radius: 0.25em;background-color: #f0f8ff;}#sk-container-id-16 input.sk-toggleable__control:checked~div.sk-toggleable__content {max-height: 200px;max-width: 100%;overflow: auto;}#sk-container-id-16 input.sk-toggleable__control:checked~label.sk-toggleable__label-arrow:before {content: \"▾\";}#sk-container-id-16 div.sk-estimator input.sk-toggleable__control:checked~label.sk-toggleable__label {background-color: #d4ebff;}#sk-container-id-16 div.sk-label input.sk-toggleable__control:checked~label.sk-toggleable__label {background-color: #d4ebff;}#sk-container-id-16 input.sk-hidden--visually {border: 0;clip: rect(1px 1px 1px 1px);clip: rect(1px, 1px, 1px, 1px);height: 1px;margin: -1px;overflow: hidden;padding: 0;position: absolute;width: 1px;}#sk-container-id-16 div.sk-estimator {font-family: monospace;background-color: #f0f8ff;border: 1px dotted black;border-radius: 0.25em;box-sizing: border-box;margin-bottom: 0.5em;}#sk-container-id-16 div.sk-estimator:hover {background-color: #d4ebff;}#sk-container-id-16 div.sk-parallel-item::after {content: \"\";width: 100%;border-bottom: 1px solid gray;flex-grow: 1;}#sk-container-id-16 div.sk-label:hover label.sk-toggleable__label {background-color: #d4ebff;}#sk-container-id-16 div.sk-serial::before {content: \"\";position: absolute;border-left: 1px solid gray;box-sizing: border-box;top: 0;bottom: 0;left: 50%;z-index: 0;}#sk-container-id-16 div.sk-serial {display: flex;flex-direction: column;align-items: center;background-color: white;padding-right: 0.2em;padding-left: 0.2em;position: relative;}#sk-container-id-16 div.sk-item {position: relative;z-index: 1;}#sk-container-id-16 div.sk-parallel {display: flex;align-items: stretch;justify-content: center;background-color: white;position: relative;}#sk-container-id-16 div.sk-item::before, #sk-container-id-16 div.sk-parallel-item::before {content: \"\";position: absolute;border-left: 1px solid gray;box-sizing: border-box;top: 0;bottom: 0;left: 50%;z-index: -1;}#sk-container-id-16 div.sk-parallel-item {display: flex;flex-direction: column;z-index: 1;position: relative;background-color: white;}#sk-container-id-16 div.sk-parallel-item:first-child::after {align-self: flex-end;width: 50%;}#sk-container-id-16 div.sk-parallel-item:last-child::after {align-self: flex-start;width: 50%;}#sk-container-id-16 div.sk-parallel-item:only-child::after {width: 0;}#sk-container-id-16 div.sk-dashed-wrapped {border: 1px dashed gray;margin: 0 0.4em 0.5em 0.4em;box-sizing: border-box;padding-bottom: 0.4em;background-color: white;}#sk-container-id-16 div.sk-label label {font-family: monospace;font-weight: bold;display: inline-block;line-height: 1.2em;}#sk-container-id-16 div.sk-label-container {text-align: center;}#sk-container-id-16 div.sk-container {/* jupyter's `normalize.less` sets `[hidden] { display: none; }` but bootstrap.min.css set `[hidden] { display: none !important; }` so we also need the `!important` here to be able to override the default hidden behavior on the sphinx rendered scikit-learn.org. See: https://github.com/scikit-learn/scikit-learn/issues/21755 */display: inline-block !important;position: relative;}#sk-container-id-16 div.sk-text-repr-fallback {display: none;}</style><div id=\"sk-container-id-16\" class=\"sk-top-container\"><div class=\"sk-text-repr-fallback\"><pre>MultiOutputClassifier(estimator=SVC(random_state=42), n_jobs=-1)</pre><b>In a Jupyter environment, please rerun this cell to show the HTML representation or trust the notebook. <br />On GitHub, the HTML representation is unable to render, please try loading this page with nbviewer.org.</b></div><div class=\"sk-container\" hidden><div class=\"sk-item sk-dashed-wrapped\"><div class=\"sk-label-container\"><div class=\"sk-label sk-toggleable\"><input class=\"sk-toggleable__control sk-hidden--visually\" id=\"sk-estimator-id-40\" type=\"checkbox\" ><label for=\"sk-estimator-id-40\" class=\"sk-toggleable__label sk-toggleable__label-arrow\">MultiOutputClassifier</label><div class=\"sk-toggleable__content\"><pre>MultiOutputClassifier(estimator=SVC(random_state=42), n_jobs=-1)</pre></div></div></div><div class=\"sk-parallel\"><div class=\"sk-parallel-item\"><div class=\"sk-item\"><div class=\"sk-label-container\"><div class=\"sk-label sk-toggleable\"><input class=\"sk-toggleable__control sk-hidden--visually\" id=\"sk-estimator-id-41\" type=\"checkbox\" ><label for=\"sk-estimator-id-41\" class=\"sk-toggleable__label sk-toggleable__label-arrow\">estimator: SVC</label><div class=\"sk-toggleable__content\"><pre>SVC(random_state=42)</pre></div></div></div><div class=\"sk-serial\"><div class=\"sk-item\"><div class=\"sk-estimator sk-toggleable\"><input class=\"sk-toggleable__control sk-hidden--visually\" id=\"sk-estimator-id-42\" type=\"checkbox\" ><label for=\"sk-estimator-id-42\" class=\"sk-toggleable__label sk-toggleable__label-arrow\">SVC</label><div class=\"sk-toggleable__content\"><pre>SVC(random_state=42)</pre></div></div></div></div></div></div></div></div></div></div>"
      ],
      "text/plain": [
       "MultiOutputClassifier(estimator=SVC(random_state=42), n_jobs=-1)"
      ]
     },
     "execution_count": 585,
     "metadata": {},
     "output_type": "execute_result"
    }
   ],
   "source": [
    "svcls_ml = MultiOutputClassifier(SVC(random_state=42), n_jobs=-1)\n",
    "svcls_ml.fit(X_train_use, Y_train_use)"
   ]
  },
  {
   "cell_type": "code",
   "execution_count": 586,
   "id": "5538fde5",
   "metadata": {},
   "outputs": [],
   "source": [
    "Y_pred = svcls_ml.predict(X_train_hold)\n",
    "scores = fit_metrics(Y_train_hold, Y_pred)"
   ]
  },
  {
   "cell_type": "code",
   "execution_count": 587,
   "id": "3ed436aa",
   "metadata": {},
   "outputs": [
    {
     "name": "stdout",
     "output_type": "stream",
     "text": [
      "0.5612391930835735\n"
     ]
    }
   ],
   "source": [
    "print(scores[\"accuracy\"])"
   ]
  },
  {
   "cell_type": "code",
   "execution_count": 588,
   "id": "879d3347",
   "metadata": {},
   "outputs": [
    {
     "name": "stdout",
     "output_type": "stream",
     "text": [
      "F1 micro : 0.7868525896414342\n",
      "F1 macro : 0.670874865777944\n",
      "F1 weighted : 0.7681935633381846\n"
     ]
    }
   ],
   "source": [
    "for metric in [\"micro\", \"macro\", \"weighted\"]:\n",
    "    print(\"F1 \"+metric,\":\", scores[\"f1_\"+metric])"
   ]
  },
  {
   "cell_type": "code",
   "execution_count": 589,
   "id": "ff5c3077",
   "metadata": {},
   "outputs": [],
   "source": [
    "with open(\"mbti-multilabel-svcls-scores.pkl\", \"wb\") as pklfile:\n",
    "    pickle.dump(scores, pklfile)\n",
    "    pklfile.close()"
   ]
  },
  {
   "cell_type": "markdown",
   "id": "7adbddb6",
   "metadata": {},
   "source": [
    "# K-Neighbors Classifier"
   ]
  },
  {
   "cell_type": "code",
   "execution_count": 590,
   "id": "28319e23",
   "metadata": {},
   "outputs": [],
   "source": [
    "from sklearn.neighbors import KNeighborsClassifier"
   ]
  },
  {
   "cell_type": "code",
   "execution_count": 591,
   "id": "045b3c4c",
   "metadata": {},
   "outputs": [
    {
     "data": {
      "text/html": [
       "<style>#sk-container-id-17 {color: black;background-color: white;}#sk-container-id-17 pre{padding: 0;}#sk-container-id-17 div.sk-toggleable {background-color: white;}#sk-container-id-17 label.sk-toggleable__label {cursor: pointer;display: block;width: 100%;margin-bottom: 0;padding: 0.3em;box-sizing: border-box;text-align: center;}#sk-container-id-17 label.sk-toggleable__label-arrow:before {content: \"▸\";float: left;margin-right: 0.25em;color: #696969;}#sk-container-id-17 label.sk-toggleable__label-arrow:hover:before {color: black;}#sk-container-id-17 div.sk-estimator:hover label.sk-toggleable__label-arrow:before {color: black;}#sk-container-id-17 div.sk-toggleable__content {max-height: 0;max-width: 0;overflow: hidden;text-align: left;background-color: #f0f8ff;}#sk-container-id-17 div.sk-toggleable__content pre {margin: 0.2em;color: black;border-radius: 0.25em;background-color: #f0f8ff;}#sk-container-id-17 input.sk-toggleable__control:checked~div.sk-toggleable__content {max-height: 200px;max-width: 100%;overflow: auto;}#sk-container-id-17 input.sk-toggleable__control:checked~label.sk-toggleable__label-arrow:before {content: \"▾\";}#sk-container-id-17 div.sk-estimator input.sk-toggleable__control:checked~label.sk-toggleable__label {background-color: #d4ebff;}#sk-container-id-17 div.sk-label input.sk-toggleable__control:checked~label.sk-toggleable__label {background-color: #d4ebff;}#sk-container-id-17 input.sk-hidden--visually {border: 0;clip: rect(1px 1px 1px 1px);clip: rect(1px, 1px, 1px, 1px);height: 1px;margin: -1px;overflow: hidden;padding: 0;position: absolute;width: 1px;}#sk-container-id-17 div.sk-estimator {font-family: monospace;background-color: #f0f8ff;border: 1px dotted black;border-radius: 0.25em;box-sizing: border-box;margin-bottom: 0.5em;}#sk-container-id-17 div.sk-estimator:hover {background-color: #d4ebff;}#sk-container-id-17 div.sk-parallel-item::after {content: \"\";width: 100%;border-bottom: 1px solid gray;flex-grow: 1;}#sk-container-id-17 div.sk-label:hover label.sk-toggleable__label {background-color: #d4ebff;}#sk-container-id-17 div.sk-serial::before {content: \"\";position: absolute;border-left: 1px solid gray;box-sizing: border-box;top: 0;bottom: 0;left: 50%;z-index: 0;}#sk-container-id-17 div.sk-serial {display: flex;flex-direction: column;align-items: center;background-color: white;padding-right: 0.2em;padding-left: 0.2em;position: relative;}#sk-container-id-17 div.sk-item {position: relative;z-index: 1;}#sk-container-id-17 div.sk-parallel {display: flex;align-items: stretch;justify-content: center;background-color: white;position: relative;}#sk-container-id-17 div.sk-item::before, #sk-container-id-17 div.sk-parallel-item::before {content: \"\";position: absolute;border-left: 1px solid gray;box-sizing: border-box;top: 0;bottom: 0;left: 50%;z-index: -1;}#sk-container-id-17 div.sk-parallel-item {display: flex;flex-direction: column;z-index: 1;position: relative;background-color: white;}#sk-container-id-17 div.sk-parallel-item:first-child::after {align-self: flex-end;width: 50%;}#sk-container-id-17 div.sk-parallel-item:last-child::after {align-self: flex-start;width: 50%;}#sk-container-id-17 div.sk-parallel-item:only-child::after {width: 0;}#sk-container-id-17 div.sk-dashed-wrapped {border: 1px dashed gray;margin: 0 0.4em 0.5em 0.4em;box-sizing: border-box;padding-bottom: 0.4em;background-color: white;}#sk-container-id-17 div.sk-label label {font-family: monospace;font-weight: bold;display: inline-block;line-height: 1.2em;}#sk-container-id-17 div.sk-label-container {text-align: center;}#sk-container-id-17 div.sk-container {/* jupyter's `normalize.less` sets `[hidden] { display: none; }` but bootstrap.min.css set `[hidden] { display: none !important; }` so we also need the `!important` here to be able to override the default hidden behavior on the sphinx rendered scikit-learn.org. See: https://github.com/scikit-learn/scikit-learn/issues/21755 */display: inline-block !important;position: relative;}#sk-container-id-17 div.sk-text-repr-fallback {display: none;}</style><div id=\"sk-container-id-17\" class=\"sk-top-container\"><div class=\"sk-text-repr-fallback\"><pre>MultiOutputClassifier(estimator=KNeighborsClassifier(n_neighbors=20), n_jobs=-1)</pre><b>In a Jupyter environment, please rerun this cell to show the HTML representation or trust the notebook. <br />On GitHub, the HTML representation is unable to render, please try loading this page with nbviewer.org.</b></div><div class=\"sk-container\" hidden><div class=\"sk-item sk-dashed-wrapped\"><div class=\"sk-label-container\"><div class=\"sk-label sk-toggleable\"><input class=\"sk-toggleable__control sk-hidden--visually\" id=\"sk-estimator-id-43\" type=\"checkbox\" ><label for=\"sk-estimator-id-43\" class=\"sk-toggleable__label sk-toggleable__label-arrow\">MultiOutputClassifier</label><div class=\"sk-toggleable__content\"><pre>MultiOutputClassifier(estimator=KNeighborsClassifier(n_neighbors=20), n_jobs=-1)</pre></div></div></div><div class=\"sk-parallel\"><div class=\"sk-parallel-item\"><div class=\"sk-item\"><div class=\"sk-label-container\"><div class=\"sk-label sk-toggleable\"><input class=\"sk-toggleable__control sk-hidden--visually\" id=\"sk-estimator-id-44\" type=\"checkbox\" ><label for=\"sk-estimator-id-44\" class=\"sk-toggleable__label sk-toggleable__label-arrow\">estimator: KNeighborsClassifier</label><div class=\"sk-toggleable__content\"><pre>KNeighborsClassifier(n_neighbors=20)</pre></div></div></div><div class=\"sk-serial\"><div class=\"sk-item\"><div class=\"sk-estimator sk-toggleable\"><input class=\"sk-toggleable__control sk-hidden--visually\" id=\"sk-estimator-id-45\" type=\"checkbox\" ><label for=\"sk-estimator-id-45\" class=\"sk-toggleable__label sk-toggleable__label-arrow\">KNeighborsClassifier</label><div class=\"sk-toggleable__content\"><pre>KNeighborsClassifier(n_neighbors=20)</pre></div></div></div></div></div></div></div></div></div></div>"
      ],
      "text/plain": [
       "MultiOutputClassifier(estimator=KNeighborsClassifier(n_neighbors=20), n_jobs=-1)"
      ]
     },
     "execution_count": 591,
     "metadata": {},
     "output_type": "execute_result"
    }
   ],
   "source": [
    "kncls_ml = MultiOutputClassifier(KNeighborsClassifier(n_neighbors=20), n_jobs=-1)\n",
    "kncls_ml.fit(X_train_use, Y_train_use)"
   ]
  },
  {
   "cell_type": "code",
   "execution_count": 592,
   "id": "9ea8406c",
   "metadata": {},
   "outputs": [],
   "source": [
    "Y_pred = kncls_ml.predict(X_train_hold)\n",
    "scores = fit_metrics(Y_train_hold, Y_pred)"
   ]
  },
  {
   "cell_type": "code",
   "execution_count": 593,
   "id": "acb73627",
   "metadata": {},
   "outputs": [
    {
     "name": "stdout",
     "output_type": "stream",
     "text": [
      "0.5057636887608069\n"
     ]
    }
   ],
   "source": [
    "print(scores[\"accuracy\"])"
   ]
  },
  {
   "cell_type": "code",
   "execution_count": 594,
   "id": "38869fd1",
   "metadata": {},
   "outputs": [
    {
     "name": "stdout",
     "output_type": "stream",
     "text": [
      "F1 micro : 0.7496917385943279\n",
      "F1 macro : 0.6157165718388407\n",
      "F1 weighted : 0.7224879164268738\n"
     ]
    }
   ],
   "source": [
    "for metric in [\"micro\", \"macro\", \"weighted\"]:\n",
    "    print(\"F1 \"+metric,\":\", scores[\"f1_\"+metric])"
   ]
  },
  {
   "cell_type": "code",
   "execution_count": 595,
   "id": "0fe8baad",
   "metadata": {},
   "outputs": [],
   "source": [
    "with open(\"mbti-multilabel-kncls-scores.pkl\", \"wb\") as pklfile:\n",
    "    pickle.dump(scores, pklfile)\n",
    "    pklfile.close()"
   ]
  },
  {
   "cell_type": "markdown",
   "id": "1cbf78a7",
   "metadata": {},
   "source": [
    "The following are the Macro F1-scores:\n",
    "\n",
    "    * GaussianNB:                0.6400\n",
    "    * Logistic Regression:       0.6646 <==\n",
    "    * Random Forest:             0.4514 \n",
    "    * XGBoost:                    --- (was not trained, since the dimensionality is high, so takes a lot of training time)\n",
    "    * Stochastic GD:             0.6806 <==\n",
    "    * Support Vector:            0.6708 <==\n",
    "    * K-Neighbors:               0.6157\n",
    "\n",
    "Here we see that the f1-score in general has improved, by around 15%.\n",
    "\n",
    "The marked classifiers have a higher f1-score compared to the rest, therefore they are used to create a voting based ensemble."
   ]
  },
  {
   "cell_type": "markdown",
   "id": "592b25b2",
   "metadata": {},
   "source": [
    "# Ensemble of Multilabel Estimators"
   ]
  },
  {
   "cell_type": "code",
   "execution_count": 597,
   "id": "f11fa81f",
   "metadata": {},
   "outputs": [],
   "source": [
    "class MLVotingClassifier():\n",
    "    def __init__(self, estimators):\n",
    "        self.estimators_ = estimators\n",
    "    \n",
    "    def predict(self, X):\n",
    "        X = np.squeeze(np.array(X))\n",
    "        predictions = []\n",
    "        for est in self.estimators_:\n",
    "            predictions.append(est[1].predict(X))\n",
    "        predictions = np.stack(predictions)\n",
    "        \n",
    "        voted_mat = np.round(np.sum(predictions, axis=0)/len(self.estimators_))\n",
    "\n",
    "        return np.squeeze(voted_mat)"
   ]
  },
  {
   "cell_type": "code",
   "execution_count": 598,
   "id": "06410ec3",
   "metadata": {},
   "outputs": [],
   "source": [
    "votecls_ml = MLVotingClassifier(estimators=[(\"svc\", svcls_ml), (\"sgd\", sgdcls_ml), (\"lr\", lrcls_ml)])"
   ]
  },
  {
   "cell_type": "code",
   "execution_count": 599,
   "id": "180e227f",
   "metadata": {},
   "outputs": [],
   "source": [
    "Y_pred = votecls_ml.predict(X_test)\n",
    "scores_votecls_ml = fit_metrics(test_type, Y_pred)"
   ]
  },
  {
   "cell_type": "code",
   "execution_count": 600,
   "id": "ff86b7dc",
   "metadata": {},
   "outputs": [
    {
     "name": "stdout",
     "output_type": "stream",
     "text": [
      "accuracy :  0.5602305475504322\n",
      "precision_micro :  0.8194616977225673\n",
      "precision_macro :  0.7905812441319737\n",
      "precision_weighted :  0.811974267163862\n",
      "recall_micro :  0.7530441400304414\n",
      "recall_macro :  0.6263318966189222\n",
      "recall_weighted :  0.7530441400304414\n",
      "f1_micro :  0.7848502875272655\n",
      "f1_macro :  0.6776852074160951\n",
      "f1_weighted :  0.7687713842597848\n"
     ]
    }
   ],
   "source": [
    "for key, value in scores_votecls_ml.items():\n",
    "    print(key, \": \", value)"
   ]
  },
  {
   "cell_type": "code",
   "execution_count": 601,
   "id": "4f74a690",
   "metadata": {},
   "outputs": [],
   "source": [
    "with open(\"mbti-multilabel-votecls-svc-sgd-lr-scores.pkl\", \"wb\") as pklfile:\n",
    "    pickle.dump([votecls_ml, scores_votecls_ml], pklfile)\n",
    "    pklfile.close()"
   ]
  },
  {
   "cell_type": "code",
   "execution_count": 602,
   "id": "2ad35157",
   "metadata": {},
   "outputs": [
    {
     "data": {
      "text/plain": [
       "0.6719043116989276"
      ]
     },
     "execution_count": 602,
     "metadata": {},
     "output_type": "execute_result"
    }
   ],
   "source": [
    "# Testing SVC on test data\n",
    "Y_predt = svcls_ml.predict(X_test)\n",
    "scorest = fit_metrics(Y_test, Y_predt)\n",
    "scorest[\"f1_macro\"]"
   ]
  },
  {
   "cell_type": "code",
   "execution_count": 603,
   "id": "05c2d14a",
   "metadata": {},
   "outputs": [
    {
     "data": {
      "text/plain": [
       "0.6858838234189114"
      ]
     },
     "execution_count": 603,
     "metadata": {},
     "output_type": "execute_result"
    }
   ],
   "source": [
    "# Testing SGC on test data\n",
    "Y_predt = sgdcls_ml.predict(X_test)\n",
    "scorest = fit_metrics(Y_test, Y_predt)\n",
    "scorest[\"f1_macro\"]"
   ]
  },
  {
   "cell_type": "code",
   "execution_count": 604,
   "id": "21b95549",
   "metadata": {},
   "outputs": [
    {
     "data": {
      "text/plain": [
       "0.6637047484106884"
      ]
     },
     "execution_count": 604,
     "metadata": {},
     "output_type": "execute_result"
    }
   ],
   "source": [
    "# Testing Logistic Regression on test data\n",
    "Y_predt = lrcls_ml.predict(X_test)\n",
    "scorest = fit_metrics(Y_test, Y_predt)\n",
    "scorest[\"f1_macro\"]"
   ]
  },
  {
   "cell_type": "markdown",
   "id": "e3699672",
   "metadata": {},
   "source": [
    "Here we see that the SGD classifier scores better than the ensemble and Logistic Regression scores worse, while SVC is on par with the ensemble."
   ]
  },
  {
   "cell_type": "markdown",
   "id": "48b44578",
   "metadata": {},
   "source": [
    "# PCA Decomposition"
   ]
  },
  {
   "cell_type": "markdown",
   "id": "fa492f70",
   "metadata": {},
   "source": [
    "We perform PCA on our feature set, which is a 796d vector. We vary n_components to see which would be the most suitable. The reduced dimensionality will enable us to train the XGBoost Classifier."
   ]
  },
  {
   "cell_type": "code",
   "execution_count": 605,
   "id": "3a8a5f93",
   "metadata": {},
   "outputs": [],
   "source": [
    "from sklearn.decomposition import PCA"
   ]
  },
  {
   "cell_type": "code",
   "execution_count": 290,
   "id": "ddb70c93",
   "metadata": {},
   "outputs": [
    {
     "name": "stdout",
     "output_type": "stream",
     "text": [
      "\n",
      "Accuracy @PCA=10: 0.5295389048991355\n",
      "F1 micro : 0.7600997506234415\n",
      "F1 macro : 0.5796724172517771\n",
      "F1 weighted : 0.723660852151896\n",
      "\n",
      "Accuracy @PCA=15: 0.5554755043227666\n",
      "F1 micro : 0.7748821047406305\n",
      "F1 macro : 0.631209804796296\n",
      "F1 weighted : 0.7479183962442661\n",
      "\n",
      "Accuracy @PCA=20: 0.5504322766570605\n",
      "F1 micro : 0.7777222777222778\n",
      "F1 macro : 0.6375941261823029\n",
      "F1 weighted : 0.7519048529389285\n",
      "\n",
      "Accuracy @PCA=25: 0.5619596541786743\n",
      "F1 micro : 0.782565130260521\n",
      "F1 macro : 0.6485827906286449\n",
      "F1 weighted : 0.7584714029309846\n"
     ]
    }
   ],
   "source": [
    "f1_macros = []\n",
    "ncomps = [10,15,20,25]\n",
    "for n in ncomps:\n",
    "    pca = PCA(n_components = n, random_state = 42)\n",
    "    pca_X_use = pca.fit_transform(X_train_use)\n",
    "    pca_X_hold = pca.transform(X_train_hold)\n",
    "    pcamodeltest = MultiOutputClassifier(LogisticRegression(max_iter=3000), n_jobs=-1)\n",
    "    pcamodeltest.fit(pca_X_use, Y_train_use)\n",
    "    Y_pred = pcamodeltest.predict(pca_X_hold)\n",
    "    scores = fit_metrics(Y_train_hold, Y_pred)\n",
    "\n",
    "    print()\n",
    "    print(\"Accuracy @PCA=%d:\" %n, scores[\"accuracy\"])\n",
    "    for metric in [\"micro\", \"macro\", \"weighted\"]:\n",
    "        if metric == \"macro\":\n",
    "            f1_macros.append(scores[\"f1_\"+metric])\n",
    "        print(\"F1 \"+metric,\":\", scores[\"f1_\"+metric])"
   ]
  },
  {
   "cell_type": "code",
   "execution_count": 291,
   "id": "e8f8b85d",
   "metadata": {},
   "outputs": [
    {
     "data": {
      "text/plain": [
       "[<matplotlib.lines.Line2D at 0x1be8fb9cca0>]"
      ]
     },
     "execution_count": 291,
     "metadata": {},
     "output_type": "execute_result"
    },
    {
     "data": {
      "image/png": "[encoded data removed]",
      "text/plain": [
       "<Figure size 500x300 with 1 Axes>"
      ]
     },
     "metadata": {},
     "output_type": "display_data"
    }
   ],
   "source": [
    "plt.figure(figsize=(5,3))\n",
    "plt.plot(ncomps, f1_macros)"
   ]
  },
  {
   "cell_type": "markdown",
   "id": "80eaa1a4",
   "metadata": {},
   "source": [
    "We see that the gain in information as the number of components increase starts to flatten after around 24-25, i.e., the gain in information wrt the increase in complexity (dimensionality) becomes low."
   ]
  },
  {
   "cell_type": "markdown",
   "id": "b50b5b0a",
   "metadata": {},
   "source": [
    "## PCA Data"
   ]
  },
  {
   "cell_type": "code",
   "execution_count": 606,
   "id": "c394f059",
   "metadata": {},
   "outputs": [],
   "source": [
    "pca = PCA(n_components = 25, random_state = 42)\n",
    "pca_X_use = pca.fit_transform(X_train_use)\n",
    "pca_X_hold = pca.transform(X_train_hold)"
   ]
  },
  {
   "cell_type": "markdown",
   "id": "2e9835f5",
   "metadata": {},
   "source": [
    "# Random Forest Classifier"
   ]
  },
  {
   "cell_type": "code",
   "execution_count": 607,
   "id": "972b673b",
   "metadata": {},
   "outputs": [],
   "source": [
    "from sklearn.ensemble import RandomForestClassifier"
   ]
  },
  {
   "cell_type": "code",
   "execution_count": 610,
   "id": "69b1dcbc",
   "metadata": {},
   "outputs": [
    {
     "name": "stdout",
     "output_type": "stream",
     "text": [
      "CPU times: total: 703 ms\n",
      "Wall time: 5.9 s\n"
     ]
    }
   ],
   "source": [
    "%%time\n",
    "rfcls_ml_pca_params = {\"max_depth\":14, \"max_features\":'sqrt', \"min_samples_leaf\":1,\n",
    "                               \"min_samples_split\":2, \"n_estimators\":200, \"random_state\":42}\n",
    "rfcls_ml_pca = MultiOutputClassifier(RandomForestClassifier(**rfcls_ml_pca_params), n_jobs=-1)\n",
    "rfcls_ml_pca.fit(pca_X_use, Y_train_use)\n",
    "\n",
    "Y_pred = rfcls_ml_pca.predict(pca_X_hold)\n",
    "scores = fit_metrics(Y_train_hold, Y_pred)"
   ]
  },
  {
   "cell_type": "code",
   "execution_count": 611,
   "id": "7396feab",
   "metadata": {},
   "outputs": [
    {
     "name": "stdout",
     "output_type": "stream",
     "text": [
      "0.5857348703170029\n"
     ]
    }
   ],
   "source": [
    "print(scores[\"accuracy\"])"
   ]
  },
  {
   "cell_type": "code",
   "execution_count": 612,
   "id": "36df86d1",
   "metadata": {},
   "outputs": [
    {
     "name": "stdout",
     "output_type": "stream",
     "text": [
      "F1 micro : 0.7881918819188192\n",
      "F1 macro : 0.6830028740935671\n",
      "F1 weighted : 0.7707801522633511\n"
     ]
    }
   ],
   "source": [
    "for metric in [\"micro\", \"macro\", \"weighted\"]:\n",
    "    print(\"F1 \"+metric,\":\", scores[\"f1_\"+metric])"
   ]
  },
  {
   "cell_type": "code",
   "execution_count": 613,
   "id": "4b5f7ec4",
   "metadata": {},
   "outputs": [],
   "source": [
    "with open(\"mbti-multilabel-rfcls-pca-scores.pkl\", \"wb\") as pklfile:\n",
    "    pickle.dump(scores, pklfile)\n",
    "    pklfile.close()"
   ]
  },
  {
   "cell_type": "markdown",
   "id": "fa0989d0",
   "metadata": {},
   "source": [
    "# Random Forest Classifier (n estimators = 400)"
   ]
  },
  {
   "cell_type": "code",
   "execution_count": 614,
   "id": "b17746f5",
   "metadata": {},
   "outputs": [],
   "source": [
    "from sklearn.ensemble import RandomForestClassifier"
   ]
  },
  {
   "cell_type": "code",
   "execution_count": 615,
   "id": "dfae95b8",
   "metadata": {},
   "outputs": [
    {
     "name": "stdout",
     "output_type": "stream",
     "text": [
      "CPU times: total: 1.66 s\n",
      "Wall time: 9.45 s\n"
     ]
    }
   ],
   "source": [
    "%%time\n",
    "rfcls_ml_pca_nest400_params = {\"max_depth\":14, \"max_features\":'sqrt', \"min_samples_leaf\":1,\n",
    "                               \"min_samples_split\":2, \"n_estimators\":400, \"random_state\":42}\n",
    "rfcls_ml_pca_nest400 = MultiOutputClassifier(RandomForestClassifier(**rfcls_ml_pca_nest400_params), n_jobs=-1)\n",
    "rfcls_ml_pca_nest400.fit(pca_X_use, Y_train_use)\n",
    "\n",
    "Y_pred = rfcls_ml_pca_nest400.predict(pca_X_hold)\n",
    "scores = fit_metrics(Y_train_hold, Y_pred)"
   ]
  },
  {
   "cell_type": "code",
   "execution_count": 616,
   "id": "91bd3441",
   "metadata": {},
   "outputs": [
    {
     "name": "stdout",
     "output_type": "stream",
     "text": [
      "0.595821325648415\n"
     ]
    }
   ],
   "source": [
    "print(scores[\"accuracy\"])"
   ]
  },
  {
   "cell_type": "code",
   "execution_count": 617,
   "id": "cae7b8aa",
   "metadata": {},
   "outputs": [
    {
     "name": "stdout",
     "output_type": "stream",
     "text": [
      "F1 micro : 0.790720631786772\n",
      "F1 macro : 0.6824603635543727\n",
      "F1 weighted : 0.7729452903352263\n"
     ]
    }
   ],
   "source": [
    "for metric in [\"micro\", \"macro\", \"weighted\"]:\n",
    "    print(\"F1 \"+metric,\":\", scores[\"f1_\"+metric])"
   ]
  },
  {
   "cell_type": "code",
   "execution_count": 618,
   "id": "df749c9a",
   "metadata": {},
   "outputs": [],
   "source": [
    "with open(\"mbti-multilabel-rfcls-pca-nest400-scores.pkl\", \"wb\") as pklfile:\n",
    "    pickle.dump(scores, pklfile)\n",
    "    pklfile.close()"
   ]
  },
  {
   "cell_type": "markdown",
   "id": "66a77923",
   "metadata": {},
   "source": [
    "# Random Forest Classifier (max depth=20)"
   ]
  },
  {
   "cell_type": "code",
   "execution_count": 619,
   "id": "98dbb41d",
   "metadata": {},
   "outputs": [],
   "source": [
    "from sklearn.ensemble import RandomForestClassifier"
   ]
  },
  {
   "cell_type": "code",
   "execution_count": 620,
   "id": "24d0f021",
   "metadata": {},
   "outputs": [
    {
     "name": "stdout",
     "output_type": "stream",
     "text": [
      "CPU times: total: 875 ms\n",
      "Wall time: 5.51 s\n"
     ]
    }
   ],
   "source": [
    "%%time\n",
    "rfcls_ml_pca_mxdp20_params = {\"max_depth\":20, \"max_features\":'sqrt', \"min_samples_leaf\":1,\n",
    "                               \"min_samples_split\":2, \"n_estimators\":200, \"random_state\":42}\n",
    "rfcls_ml_pca_mxdp20 = MultiOutputClassifier(RandomForestClassifier(**rfcls_ml_pca_mxdp20_params), n_jobs=-1)\n",
    "rfcls_ml_pca_mxdp20.fit(pca_X_use, Y_train_use)\n",
    "\n",
    "Y_pred = rfcls_ml_pca_mxdp20.predict(pca_X_hold)\n",
    "scores = fit_metrics(Y_train_hold, Y_pred)"
   ]
  },
  {
   "cell_type": "code",
   "execution_count": 621,
   "id": "6555902a",
   "metadata": {},
   "outputs": [
    {
     "name": "stdout",
     "output_type": "stream",
     "text": [
      "0.5893371757925072\n"
     ]
    }
   ],
   "source": [
    "print(scores[\"accuracy\"])"
   ]
  },
  {
   "cell_type": "code",
   "execution_count": 622,
   "id": "a3faf6f4",
   "metadata": {},
   "outputs": [
    {
     "name": "stdout",
     "output_type": "stream",
     "text": [
      "F1 micro : 0.7895386133728103\n",
      "F1 macro : 0.6870201563993609\n",
      "F1 weighted : 0.7728592311737583\n"
     ]
    }
   ],
   "source": [
    "for metric in [\"micro\", \"macro\", \"weighted\"]:\n",
    "    print(\"F1 \"+metric,\":\", scores[\"f1_\"+metric])"
   ]
  },
  {
   "cell_type": "code",
   "execution_count": 623,
   "id": "c743a674",
   "metadata": {},
   "outputs": [],
   "source": [
    "with open(\"mbti-multilabel-rfcls-pca-mxdp20-scores.pkl\", \"wb\") as pklfile:\n",
    "    pickle.dump(scores, pklfile)\n",
    "    pklfile.close()"
   ]
  },
  {
   "cell_type": "markdown",
   "id": "14413dfc",
   "metadata": {},
   "source": [
    "# XGBoostClassifier"
   ]
  },
  {
   "cell_type": "code",
   "execution_count": 624,
   "id": "58b52fbe",
   "metadata": {},
   "outputs": [],
   "source": [
    "from xgboost import XGBClassifier"
   ]
  },
  {
   "cell_type": "code",
   "execution_count": 625,
   "id": "262ebd39",
   "metadata": {},
   "outputs": [
    {
     "name": "stdout",
     "output_type": "stream",
     "text": [
      "CPU times: total: 2.67 s\n",
      "Wall time: 3.01 s\n"
     ]
    }
   ],
   "source": [
    "%%time\n",
    "xgbcls_ml_pca_params = {\"n_estimators\": 100, \"max_depth\": 4, \"learning_rate\": 0.1, \"random_state\": 42}\n",
    "xgbcls_ml_pca = MultiOutputClassifier(XGBClassifier(**xgbcls_ml_pca_params), n_jobs=-1)\n",
    "xgbcls_ml_pca.fit(pca_X_use, Y_train_use)\n",
    "\n",
    "Y_pred = xgbcls_ml_pca.predict(pca_X_hold)\n",
    "scores = fit_metrics(Y_train_hold, Y_pred)"
   ]
  },
  {
   "cell_type": "code",
   "execution_count": 626,
   "id": "edb16f09",
   "metadata": {},
   "outputs": [
    {
     "name": "stdout",
     "output_type": "stream",
     "text": [
      "0.6073487031700289\n"
     ]
    }
   ],
   "source": [
    "print(scores[\"accuracy\"])"
   ]
  },
  {
   "cell_type": "code",
   "execution_count": 627,
   "id": "da94f210",
   "metadata": {},
   "outputs": [
    {
     "name": "stdout",
     "output_type": "stream",
     "text": [
      "F1 micro : 0.8003947693066863\n",
      "F1 macro : 0.7293618136774231\n",
      "F1 weighted : 0.7916257882175033\n"
     ]
    }
   ],
   "source": [
    "for metric in [\"micro\", \"macro\", \"weighted\"]:\n",
    "    print(\"F1 \"+metric,\":\", scores[\"f1_\"+metric])"
   ]
  },
  {
   "cell_type": "code",
   "execution_count": 628,
   "id": "50bf9636",
   "metadata": {},
   "outputs": [],
   "source": [
    "with open(\"mbti-multilabel-xgbcls-pca-scores.pkl\", \"wb\") as pklfile:\n",
    "    pickle.dump(scores, pklfile)\n",
    "    pklfile.close()"
   ]
  },
  {
   "cell_type": "markdown",
   "id": "ab8e1871",
   "metadata": {},
   "source": [
    "# XGBoostClassifier (n estimators = 200)"
   ]
  },
  {
   "cell_type": "code",
   "execution_count": 629,
   "id": "9560c8ca",
   "metadata": {},
   "outputs": [],
   "source": [
    "from xgboost import XGBClassifier"
   ]
  },
  {
   "cell_type": "code",
   "execution_count": 630,
   "id": "e724c516",
   "metadata": {},
   "outputs": [
    {
     "name": "stdout",
     "output_type": "stream",
     "text": [
      "CPU times: total: 4.03 s\n",
      "Wall time: 4.83 s\n"
     ]
    }
   ],
   "source": [
    "%%time\n",
    "xgbcls_ml_pca_nest200_params = {\"n_estimators\": 200, \"max_depth\": 4, \"learning_rate\": 0.1, \"random_state\": 42}\n",
    "xgbcls_ml_pca_nest200 = MultiOutputClassifier(XGBClassifier(**xgbcls_ml_pca_nest200_params), n_jobs=-1)\n",
    "xgbcls_ml_pca_nest200.fit(pca_X_use, Y_train_use)\n",
    "\n",
    "Y_pred = xgbcls_ml_pca_nest200.predict(pca_X_hold)\n",
    "scores = fit_metrics(Y_train_hold, Y_pred)"
   ]
  },
  {
   "cell_type": "code",
   "execution_count": 631,
   "id": "3ed492ab",
   "metadata": {},
   "outputs": [
    {
     "name": "stdout",
     "output_type": "stream",
     "text": [
      "0.6087896253602305\n"
     ]
    }
   ],
   "source": [
    "print(scores[\"accuracy\"])"
   ]
  },
  {
   "cell_type": "code",
   "execution_count": 632,
   "id": "e1cfb754",
   "metadata": {},
   "outputs": [
    {
     "name": "stdout",
     "output_type": "stream",
     "text": [
      "F1 micro : 0.8006881297616122\n",
      "F1 macro : 0.7337386336850347\n",
      "F1 weighted : 0.7932835201199974\n"
     ]
    }
   ],
   "source": [
    "for metric in [\"micro\", \"macro\", \"weighted\"]:\n",
    "    print(\"F1 \"+metric,\":\", scores[\"f1_\"+metric])"
   ]
  },
  {
   "cell_type": "code",
   "execution_count": 633,
   "id": "af606cca",
   "metadata": {},
   "outputs": [],
   "source": [
    "with open(\"mbti-multilabel-xgbcls-pca-nest200-scores.pkl\", \"wb\") as pklfile:\n",
    "    pickle.dump(scores, pklfile)\n",
    "    pklfile.close()"
   ]
  },
  {
   "cell_type": "markdown",
   "id": "35c613c2",
   "metadata": {},
   "source": [
    "# XGBoostClassifier (n estimators = 200, max depth = 8)"
   ]
  },
  {
   "cell_type": "code",
   "execution_count": 634,
   "id": "bd72fb53",
   "metadata": {},
   "outputs": [],
   "source": [
    "from xgboost import XGBClassifier"
   ]
  },
  {
   "cell_type": "code",
   "execution_count": 635,
   "id": "604e321b",
   "metadata": {},
   "outputs": [
    {
     "name": "stdout",
     "output_type": "stream",
     "text": [
      "CPU times: total: 3.14 s\n",
      "Wall time: 7.96 s\n"
     ]
    }
   ],
   "source": [
    "%%time\n",
    "xgbcls_ml_pca_nest200_mxdp8_params = {\"n_estimators\": 200, \"max_depth\": 8, \"learning_rate\": 0.1, \"random_state\": 42}\n",
    "xgbcls_ml_pca_nest200_mxdp8 = MultiOutputClassifier(XGBClassifier(**xgbcls_ml_pca_nest200_mxdp8_params), n_jobs=-1)\n",
    "xgbcls_ml_pca_nest200_mxdp8.fit(pca_X_use, Y_train_use)\n",
    "\n",
    "Y_pred = xgbcls_ml_pca_nest200_mxdp8.predict(pca_X_hold)\n",
    "scores = fit_metrics(Y_train_hold, Y_pred)"
   ]
  },
  {
   "cell_type": "code",
   "execution_count": 636,
   "id": "edac12a3",
   "metadata": {},
   "outputs": [
    {
     "name": "stdout",
     "output_type": "stream",
     "text": [
      "0.6015850144092219\n"
     ]
    }
   ],
   "source": [
    "print(scores[\"accuracy\"])"
   ]
  },
  {
   "cell_type": "code",
   "execution_count": 637,
   "id": "2c54eb7f",
   "metadata": {},
   "outputs": [
    {
     "name": "stdout",
     "output_type": "stream",
     "text": [
      "F1 micro : 0.7975550122249387\n",
      "F1 macro : 0.7219004501790213\n",
      "F1 weighted : 0.7890441390814489\n"
     ]
    }
   ],
   "source": [
    "for metric in [\"micro\", \"macro\", \"weighted\"]:\n",
    "    print(\"F1 \"+metric,\":\", scores[\"f1_\"+metric])"
   ]
  },
  {
   "cell_type": "code",
   "execution_count": 638,
   "id": "f4d9bd34",
   "metadata": {},
   "outputs": [],
   "source": [
    "with open(\"mbti-multilabel-xgbcls-pca-nest200-mxdp8-scores.pkl\", \"wb\") as pklfile:\n",
    "    pickle.dump(scores, pklfile)\n",
    "    pklfile.close()"
   ]
  },
  {
   "cell_type": "markdown",
   "id": "92181734",
   "metadata": {},
   "source": [
    "# Stochastic Gradient Descent Classifier"
   ]
  },
  {
   "cell_type": "code",
   "execution_count": 649,
   "id": "167f191d",
   "metadata": {},
   "outputs": [],
   "source": [
    "from sklearn.linear_model import SGDClassifier"
   ]
  },
  {
   "cell_type": "code",
   "execution_count": 650,
   "id": "dcf32f62",
   "metadata": {},
   "outputs": [
    {
     "name": "stdout",
     "output_type": "stream",
     "text": [
      "CPU times: total: 172 ms\n",
      "Wall time: 3.76 s\n"
     ]
    },
    {
     "data": {
      "text/html": [
       "<style>#sk-container-id-18 {color: black;background-color: white;}#sk-container-id-18 pre{padding: 0;}#sk-container-id-18 div.sk-toggleable {background-color: white;}#sk-container-id-18 label.sk-toggleable__label {cursor: pointer;display: block;width: 100%;margin-bottom: 0;padding: 0.3em;box-sizing: border-box;text-align: center;}#sk-container-id-18 label.sk-toggleable__label-arrow:before {content: \"▸\";float: left;margin-right: 0.25em;color: #696969;}#sk-container-id-18 label.sk-toggleable__label-arrow:hover:before {color: black;}#sk-container-id-18 div.sk-estimator:hover label.sk-toggleable__label-arrow:before {color: black;}#sk-container-id-18 div.sk-toggleable__content {max-height: 0;max-width: 0;overflow: hidden;text-align: left;background-color: #f0f8ff;}#sk-container-id-18 div.sk-toggleable__content pre {margin: 0.2em;color: black;border-radius: 0.25em;background-color: #f0f8ff;}#sk-container-id-18 input.sk-toggleable__control:checked~div.sk-toggleable__content {max-height: 200px;max-width: 100%;overflow: auto;}#sk-container-id-18 input.sk-toggleable__control:checked~label.sk-toggleable__label-arrow:before {content: \"▾\";}#sk-container-id-18 div.sk-estimator input.sk-toggleable__control:checked~label.sk-toggleable__label {background-color: #d4ebff;}#sk-container-id-18 div.sk-label input.sk-toggleable__control:checked~label.sk-toggleable__label {background-color: #d4ebff;}#sk-container-id-18 input.sk-hidden--visually {border: 0;clip: rect(1px 1px 1px 1px);clip: rect(1px, 1px, 1px, 1px);height: 1px;margin: -1px;overflow: hidden;padding: 0;position: absolute;width: 1px;}#sk-container-id-18 div.sk-estimator {font-family: monospace;background-color: #f0f8ff;border: 1px dotted black;border-radius: 0.25em;box-sizing: border-box;margin-bottom: 0.5em;}#sk-container-id-18 div.sk-estimator:hover {background-color: #d4ebff;}#sk-container-id-18 div.sk-parallel-item::after {content: \"\";width: 100%;border-bottom: 1px solid gray;flex-grow: 1;}#sk-container-id-18 div.sk-label:hover label.sk-toggleable__label {background-color: #d4ebff;}#sk-container-id-18 div.sk-serial::before {content: \"\";position: absolute;border-left: 1px solid gray;box-sizing: border-box;top: 0;bottom: 0;left: 50%;z-index: 0;}#sk-container-id-18 div.sk-serial {display: flex;flex-direction: column;align-items: center;background-color: white;padding-right: 0.2em;padding-left: 0.2em;position: relative;}#sk-container-id-18 div.sk-item {position: relative;z-index: 1;}#sk-container-id-18 div.sk-parallel {display: flex;align-items: stretch;justify-content: center;background-color: white;position: relative;}#sk-container-id-18 div.sk-item::before, #sk-container-id-18 div.sk-parallel-item::before {content: \"\";position: absolute;border-left: 1px solid gray;box-sizing: border-box;top: 0;bottom: 0;left: 50%;z-index: -1;}#sk-container-id-18 div.sk-parallel-item {display: flex;flex-direction: column;z-index: 1;position: relative;background-color: white;}#sk-container-id-18 div.sk-parallel-item:first-child::after {align-self: flex-end;width: 50%;}#sk-container-id-18 div.sk-parallel-item:last-child::after {align-self: flex-start;width: 50%;}#sk-container-id-18 div.sk-parallel-item:only-child::after {width: 0;}#sk-container-id-18 div.sk-dashed-wrapped {border: 1px dashed gray;margin: 0 0.4em 0.5em 0.4em;box-sizing: border-box;padding-bottom: 0.4em;background-color: white;}#sk-container-id-18 div.sk-label label {font-family: monospace;font-weight: bold;display: inline-block;line-height: 1.2em;}#sk-container-id-18 div.sk-label-container {text-align: center;}#sk-container-id-18 div.sk-container {/* jupyter's `normalize.less` sets `[hidden] { display: none; }` but bootstrap.min.css set `[hidden] { display: none !important; }` so we also need the `!important` here to be able to override the default hidden behavior on the sphinx rendered scikit-learn.org. See: https://github.com/scikit-learn/scikit-learn/issues/21755 */display: inline-block !important;position: relative;}#sk-container-id-18 div.sk-text-repr-fallback {display: none;}</style><div id=\"sk-container-id-18\" class=\"sk-top-container\"><div class=\"sk-text-repr-fallback\"><pre>MultiOutputClassifier(estimator=SGDClassifier(loss=&#x27;log_loss&#x27;, max_iter=40,\n",
       "                                              random_state=42, tol=None),\n",
       "                      n_jobs=-1)</pre><b>In a Jupyter environment, please rerun this cell to show the HTML representation or trust the notebook. <br />On GitHub, the HTML representation is unable to render, please try loading this page with nbviewer.org.</b></div><div class=\"sk-container\" hidden><div class=\"sk-item sk-dashed-wrapped\"><div class=\"sk-label-container\"><div class=\"sk-label sk-toggleable\"><input class=\"sk-toggleable__control sk-hidden--visually\" id=\"sk-estimator-id-46\" type=\"checkbox\" ><label for=\"sk-estimator-id-46\" class=\"sk-toggleable__label sk-toggleable__label-arrow\">MultiOutputClassifier</label><div class=\"sk-toggleable__content\"><pre>MultiOutputClassifier(estimator=SGDClassifier(loss=&#x27;log_loss&#x27;, max_iter=40,\n",
       "                                              random_state=42, tol=None),\n",
       "                      n_jobs=-1)</pre></div></div></div><div class=\"sk-parallel\"><div class=\"sk-parallel-item\"><div class=\"sk-item\"><div class=\"sk-label-container\"><div class=\"sk-label sk-toggleable\"><input class=\"sk-toggleable__control sk-hidden--visually\" id=\"sk-estimator-id-47\" type=\"checkbox\" ><label for=\"sk-estimator-id-47\" class=\"sk-toggleable__label sk-toggleable__label-arrow\">estimator: SGDClassifier</label><div class=\"sk-toggleable__content\"><pre>SGDClassifier(loss=&#x27;log_loss&#x27;, max_iter=40, random_state=42, tol=None)</pre></div></div></div><div class=\"sk-serial\"><div class=\"sk-item\"><div class=\"sk-estimator sk-toggleable\"><input class=\"sk-toggleable__control sk-hidden--visually\" id=\"sk-estimator-id-48\" type=\"checkbox\" ><label for=\"sk-estimator-id-48\" class=\"sk-toggleable__label sk-toggleable__label-arrow\">SGDClassifier</label><div class=\"sk-toggleable__content\"><pre>SGDClassifier(loss=&#x27;log_loss&#x27;, max_iter=40, random_state=42, tol=None)</pre></div></div></div></div></div></div></div></div></div></div>"
      ],
      "text/plain": [
       "MultiOutputClassifier(estimator=SGDClassifier(loss='log_loss', max_iter=40,\n",
       "                                              random_state=42, tol=None),\n",
       "                      n_jobs=-1)"
      ]
     },
     "execution_count": 650,
     "metadata": {},
     "output_type": "execute_result"
    }
   ],
   "source": [
    "%%time\n",
    "sgdcls_ml_pca_params = {\"loss\": \"log_loss\", \"max_iter\": 40, \"learning_rate\": \"optimal\", \"tol\": None, \"random_state\": 42}\n",
    "sgdcls_ml_pca = MultiOutputClassifier(SGDClassifier(**sgdcls_ml_pca_params), n_jobs=-1)\n",
    "sgdcls_ml_pca.fit(X_train_use, Y_train_use)"
   ]
  },
  {
   "cell_type": "code",
   "execution_count": 651,
   "id": "65d0da2e",
   "metadata": {},
   "outputs": [],
   "source": [
    "Y_pred = sgdcls_ml_pca.predict(X_train_hold)\n",
    "scores = fit_metrics(Y_train_hold, Y_pred)"
   ]
  },
  {
   "cell_type": "code",
   "execution_count": 652,
   "id": "d6f23429",
   "metadata": {},
   "outputs": [
    {
     "name": "stdout",
     "output_type": "stream",
     "text": [
      "0.5626801152737753\n"
     ]
    }
   ],
   "source": [
    "print(scores[\"accuracy\"])"
   ]
  },
  {
   "cell_type": "code",
   "execution_count": 653,
   "id": "7a16b293",
   "metadata": {},
   "outputs": [
    {
     "name": "stdout",
     "output_type": "stream",
     "text": [
      "F1 micro : 0.7852668504134303\n",
      "F1 macro : 0.6806626182807325\n",
      "F1 weighted : 0.7703128572009793\n"
     ]
    }
   ],
   "source": [
    "for metric in [\"micro\", \"macro\", \"weighted\"]:\n",
    "    print(\"F1 \"+metric,\":\", scores[\"f1_\"+metric])"
   ]
  },
  {
   "cell_type": "code",
   "execution_count": 583,
   "id": "2970d45f",
   "metadata": {},
   "outputs": [],
   "source": [
    "with open(\"mbti-multilabel-sgdcls-scores.pkl\", \"wb\") as pklfile:\n",
    "    pickle.dump(scores, pklfile)\n",
    "    pklfile.close()"
   ]
  },
  {
   "cell_type": "markdown",
   "id": "df9e583a",
   "metadata": {},
   "source": [
    "# Support Vector Classifier"
   ]
  },
  {
   "cell_type": "code",
   "execution_count": 639,
   "id": "ceda663e",
   "metadata": {},
   "outputs": [],
   "source": [
    "from sklearn.svm import SVC"
   ]
  },
  {
   "cell_type": "code",
   "execution_count": 640,
   "id": "e61d564e",
   "metadata": {},
   "outputs": [
    {
     "name": "stdout",
     "output_type": "stream",
     "text": [
      "CPU times: total: 156 ms\n",
      "Wall time: 3.58 s\n"
     ]
    }
   ],
   "source": [
    "%%time\n",
    "svcls_ml_pca = MultiOutputClassifier(SVC(random_state=42), n_jobs=-1)\n",
    "svcls_ml_pca.fit(pca_X_use, Y_train_use)\n",
    "\n",
    "Y_pred = svcls_ml_pca.predict(pca_X_hold)\n",
    "scores = fit_metrics(Y_train_hold, Y_pred)"
   ]
  },
  {
   "cell_type": "code",
   "execution_count": 641,
   "id": "535f4e82",
   "metadata": {},
   "outputs": [
    {
     "name": "stdout",
     "output_type": "stream",
     "text": [
      "0.6188760806916427\n"
     ]
    }
   ],
   "source": [
    "print(scores[\"accuracy\"])"
   ]
  },
  {
   "cell_type": "code",
   "execution_count": 642,
   "id": "272ba62c",
   "metadata": {},
   "outputs": [
    {
     "name": "stdout",
     "output_type": "stream",
     "text": [
      "F1 micro : 0.8105986261040237\n",
      "F1 macro : 0.7385379226206856\n",
      "F1 weighted : 0.8012816461963909\n"
     ]
    }
   ],
   "source": [
    "for metric in [\"micro\", \"macro\", \"weighted\"]:\n",
    "    print(\"F1 \"+metric,\":\", scores[\"f1_\"+metric])"
   ]
  },
  {
   "cell_type": "code",
   "execution_count": 643,
   "id": "875459ac",
   "metadata": {},
   "outputs": [],
   "source": [
    "with open(\"mbti-multilabel-svcls-pca-scores.pkl\", \"wb\") as pklfile:\n",
    "    pickle.dump(scores, pklfile)\n",
    "    pklfile.close()"
   ]
  },
  {
   "cell_type": "markdown",
   "id": "3763da3e",
   "metadata": {},
   "source": [
    "# K-Neighbors Classifier"
   ]
  },
  {
   "cell_type": "code",
   "execution_count": 644,
   "id": "81f24878",
   "metadata": {},
   "outputs": [],
   "source": [
    "from sklearn.neighbors import KNeighborsClassifier"
   ]
  },
  {
   "cell_type": "code",
   "execution_count": 329,
   "id": "e46db7dc",
   "metadata": {},
   "outputs": [
    {
     "name": "stdout",
     "output_type": "stream",
     "text": [
      "\n",
      "Accuracy @NNeighbors=8: 0.5417867435158501\n",
      "F1 micro : 0.7468256024876913\n",
      "F1 macro : 0.6428226756348643\n",
      "F1 weighted : 0.7301640675604067\n",
      "\n",
      "Accuracy @NNeighbors=10: 0.537463976945245\n",
      "F1 micro : 0.748712667353244\n",
      "F1 macro : 0.6450465493486347\n",
      "F1 weighted : 0.7314852886248843\n",
      "\n",
      "Accuracy @NNeighbors=12: 0.5497118155619597\n",
      "F1 micro : 0.7551909766726481\n",
      "F1 macro : 0.6490270390576405\n",
      "F1 weighted : 0.7370709908935048\n",
      "\n",
      "Accuracy @NNeighbors=14: 0.5540345821325648\n",
      "F1 micro : 0.7610529005877842\n",
      "F1 macro : 0.656573859577689\n",
      "F1 weighted : 0.7433140185245399\n",
      "\n",
      "Accuracy @NNeighbors=16: 0.5597982708933718\n",
      "F1 micro : 0.760183299389002\n",
      "F1 macro : 0.6525768825169324\n",
      "F1 weighted : 0.7418059292077115\n",
      "\n",
      "Accuracy @NNeighbors=18: 0.5547550432276657\n",
      "F1 micro : 0.760284408329101\n",
      "F1 macro : 0.6469932526008119\n",
      "F1 weighted : 0.7403962397771553\n",
      "\n",
      "Accuracy @NNeighbors=20: 0.5590778097982709\n",
      "F1 micro : 0.7640050697084917\n",
      "F1 macro : 0.6474381203255676\n",
      "F1 weighted : 0.7427972677380431\n",
      "\n",
      "Accuracy @NNeighbors=22: 0.5648414985590778\n",
      "F1 micro : 0.7659251769464105\n",
      "F1 macro : 0.6459210294333355\n",
      "F1 weighted : 0.7437148498874878\n",
      "\n",
      "Accuracy @NNeighbors=25: 0.5706051873198847\n",
      "F1 micro : 0.7732934728450424\n",
      "F1 macro : 0.6596130392722089\n",
      "F1 weighted : 0.7524057844012528\n",
      "\n",
      "Accuracy @NNeighbors=30: 0.569164265129683\n",
      "F1 micro : 0.7692307692307692\n",
      "F1 macro : 0.6467451269184539\n",
      "F1 weighted : 0.7459116156091811\n",
      "\n",
      "Accuracy @NNeighbors=35: 0.5655619596541787\n",
      "F1 micro : 0.7719560878243512\n",
      "F1 macro : 0.6475109691271492\n",
      "F1 weighted : 0.7477467472018438\n"
     ]
    }
   ],
   "source": [
    "f1_macros = []\n",
    "nnbors = [8,10,12,14,16,18,20,22,25,30,35]\n",
    "for n in nnbors:\n",
    "    pcamodeltest = MultiOutputClassifier(KNeighborsClassifier(n_neighbors=n), n_jobs=-1)\n",
    "    pcamodeltest.fit(pca_X_use, Y_train_use)\n",
    "    Y_pred = pcamodeltest.predict(pca_X_hold)\n",
    "    scores = fit_metrics(Y_train_hold, Y_pred)\n",
    "\n",
    "    print()\n",
    "    print(\"Accuracy @NNeighbors=%d:\" %n, scores[\"accuracy\"])\n",
    "    for metric in [\"micro\", \"macro\", \"weighted\"]:\n",
    "        if metric == \"macro\":\n",
    "            f1_macros.append(scores[\"f1_\"+metric])\n",
    "        print(\"F1 \"+metric,\":\", scores[\"f1_\"+metric])"
   ]
  },
  {
   "cell_type": "code",
   "execution_count": 331,
   "id": "cc8fc3c4",
   "metadata": {},
   "outputs": [
    {
     "name": "stdout",
     "output_type": "stream",
     "text": [
      "\n",
      "Accuracy @NNeighbors=40: 0.5597982708933718\n",
      "F1 micro : 0.7681451612903225\n",
      "F1 macro : 0.6406480782745613\n",
      "F1 weighted : 0.7431730710680645\n",
      "\n",
      "Accuracy @NNeighbors=45: 0.5590778097982709\n",
      "F1 micro : 0.7689233075193604\n",
      "F1 macro : 0.6394324803932445\n",
      "F1 weighted : 0.7428952407233075\n",
      "\n",
      "Accuracy @NNeighbors=50: 0.5597982708933718\n",
      "F1 micro : 0.7673716012084593\n",
      "F1 macro : 0.6351221094460885\n",
      "F1 weighted : 0.7404716173817637\n",
      "\n",
      "Accuracy @NNeighbors=55: 0.5525936599423631\n",
      "F1 micro : 0.7676566009483404\n",
      "F1 macro : 0.6290751587846042\n",
      "F1 weighted : 0.7388851308702505\n"
     ]
    }
   ],
   "source": [
    "nnbors2 = [40,45,50,55]\n",
    "# pca = PCA(n_components = 25)\n",
    "# pca_X_use = pca.fit_transform(X_train_use)\n",
    "# pca_X_hold = pca.transform(X_train_hold)\n",
    "for n in nnbors2:\n",
    "    pcamodeltest = MultiOutputClassifier(KNeighborsClassifier(n_neighbors=n), n_jobs=-1)\n",
    "    pcamodeltest.fit(pca_X_use, Y_train_use)\n",
    "    Y_pred = pcamodeltest.predict(pca_X_hold)\n",
    "    scores = fit_metrics(Y_train_hold, Y_pred)\n",
    "\n",
    "    print()\n",
    "    print(\"Accuracy @NNeighbors=%d:\" %n, scores[\"accuracy\"])\n",
    "    for metric in [\"micro\", \"macro\", \"weighted\"]:\n",
    "        if metric == \"macro\":\n",
    "            f1_macros.append(scores[\"f1_\"+metric])\n",
    "        print(\"F1 \"+metric,\":\", scores[\"f1_\"+metric])"
   ]
  },
  {
   "cell_type": "code",
   "execution_count": 333,
   "id": "46cc0448",
   "metadata": {},
   "outputs": [
    {
     "data": {
      "text/plain": [
       "[<matplotlib.lines.Line2D at 0x1be90d7fdc0>]"
      ]
     },
     "execution_count": 333,
     "metadata": {},
     "output_type": "execute_result"
    },
    {
     "data": {
      "image/png": "[encoded data removed]",
      "text/plain": [
       "<Figure size 500x300 with 1 Axes>"
      ]
     },
     "metadata": {},
     "output_type": "display_data"
    }
   ],
   "source": [
    "plt.figure(figsize=(5,3))\n",
    "plt.plot(nnbors+nnbors2, f1_macros)"
   ]
  },
  {
   "cell_type": "code",
   "execution_count": 645,
   "id": "564f67ba",
   "metadata": {},
   "outputs": [
    {
     "name": "stdout",
     "output_type": "stream",
     "text": [
      "CPU times: total: 188 ms\n",
      "Wall time: 505 ms\n"
     ]
    }
   ],
   "source": [
    "%%time\n",
    "kncls_ml_pca = MultiOutputClassifier(KNeighborsClassifier(n_neighbors=15), n_jobs=-1)\n",
    "kncls_ml_pca.fit(pca_X_use, Y_train_use)\n",
    "\n",
    "Y_pred = kncls_ml_pca.predict(pca_X_hold)\n",
    "scores = fit_metrics(Y_train_hold, Y_pred)"
   ]
  },
  {
   "cell_type": "code",
   "execution_count": 646,
   "id": "13f15770",
   "metadata": {},
   "outputs": [
    {
     "name": "stdout",
     "output_type": "stream",
     "text": [
      "0.5677233429394812\n"
     ]
    }
   ],
   "source": [
    "print(scores[\"accuracy\"])"
   ]
  },
  {
   "cell_type": "code",
   "execution_count": 647,
   "id": "45b4348e",
   "metadata": {},
   "outputs": [
    {
     "name": "stdout",
     "output_type": "stream",
     "text": [
      "F1 micro : 0.7724000992802182\n",
      "F1 macro : 0.6702317113040601\n",
      "F1 weighted : 0.7548464187363768\n"
     ]
    }
   ],
   "source": [
    "for metric in [\"micro\", \"macro\", \"weighted\"]:\n",
    "    print(\"F1 \"+metric,\":\", scores[\"f1_\"+metric])"
   ]
  },
  {
   "cell_type": "code",
   "execution_count": 648,
   "id": "0313a67d",
   "metadata": {},
   "outputs": [],
   "source": [
    "with open(\"mbti-multilabel-kncls-pca-scores.pkl\", \"wb\") as pklfile:\n",
    "    pickle.dump(scores, pklfile)\n",
    "    pklfile.close()"
   ]
  },
  {
   "cell_type": "markdown",
   "id": "d7d6af53",
   "metadata": {},
   "source": [
    "The following are the Macro F1-scores:\n",
    "\n",
    "    * Random Forest:                                                     0.6830 \n",
    "    * Random Forest Classifier (n estimators = 400):                     0.6824\n",
    "    * Random Forest Classifier (max depth=20):                           0.6870 <==\n",
    "    * XGBoost:                                                           0.7293\n",
    "    * XGBoostClassifier (n estimators = 200):                            0.7337 <==\n",
    "    * XGBoostClassifier (n estimators = 200, max depth = 8):             0.7219\n",
    "    * SGD Classifier:                                                    0.6806\n",
    "    * Support Vector Classifier:                                         0.7385 <==\n",
    "    * K-Neighbors Classifier:                                            0.6702\n",
    "\n",
    "Here we see that the f1-score has further improved, by around 1.5 - 2.0%.\n",
    "\n",
    "The marked classifiers have a higher f1-score compared to the rest, therefore they are used to create a voting based ensemble."
   ]
  },
  {
   "cell_type": "markdown",
   "id": "102f5a81",
   "metadata": {},
   "source": [
    "# Ensemble of Multilabel Estimators following PCA"
   ]
  },
  {
   "cell_type": "code",
   "execution_count": 654,
   "id": "6059eb20",
   "metadata": {},
   "outputs": [],
   "source": [
    "from sklearn.preprocessing import LabelEncoder\n",
    "\n",
    "unique_type_list = ['INFJ', 'ENTP', 'INTP', 'INTJ', 'ENTJ', 'ENFJ', 'INFP', 'ENFP',\n",
    "       'ISFP', 'ISTP', 'ISFJ', 'ISTJ', 'ESTP', 'ESFP', 'ESTJ', 'ESFJ']\n",
    "lab_encoder_mc = LabelEncoder().fit(unique_type_list)"
   ]
  },
  {
   "cell_type": "code",
   "execution_count": 655,
   "id": "82d8026c",
   "metadata": {},
   "outputs": [],
   "source": [
    "class MLVotingClassifier():\n",
    "    def __init__(self, estimators):\n",
    "        self.estimators_ = estimators\n",
    "    \n",
    "    def predict(self, X):\n",
    "        X = np.squeeze(np.array(X))\n",
    "        predictions = []\n",
    "        for est in self.estimators_:\n",
    "            predictions.append(est[1].predict(X))\n",
    "        predictions = np.stack(predictions)\n",
    "        \n",
    "        voted_mat = np.round(np.sum(predictions, axis=0)/len(self.estimators_))\n",
    "\n",
    "        return np.squeeze(voted_mat)"
   ]
  },
  {
   "cell_type": "code",
   "execution_count": 657,
   "id": "28f3b46d",
   "metadata": {},
   "outputs": [],
   "source": [
    "votecls_ml_pca = MLVotingClassifier(estimators=[(\"xgb\", xgbcls_ml_pca_nest200), (\"svc\", svcls_ml_pca), (\"rf\", rfcls_ml_pca_mxdp20)])"
   ]
  },
  {
   "cell_type": "code",
   "execution_count": 658,
   "id": "28296c21",
   "metadata": {},
   "outputs": [
    {
     "name": "stdout",
     "output_type": "stream",
     "text": [
      "CPU times: total: 2.38 s\n",
      "Wall time: 3.2 s\n"
     ]
    }
   ],
   "source": [
    "%%time\n",
    "pca_X_test = pca.transform(X_test)\n",
    "pca_X_train = pca.transform(X_train)\n",
    "\n",
    "Y_pred = votecls_ml_pca.predict(pca_X_test)"
   ]
  },
  {
   "cell_type": "code",
   "execution_count": 659,
   "id": "9375ac37",
   "metadata": {},
   "outputs": [],
   "source": [
    "scores_votecls_ml_pca = fit_metrics(Y_test, Y_pred)"
   ]
  },
  {
   "cell_type": "code",
   "execution_count": 660,
   "id": "ccfdfa91",
   "metadata": {},
   "outputs": [
    {
     "name": "stdout",
     "output_type": "stream",
     "text": [
      "accuracy :  0.5948126801152738\n",
      "precision_micro :  0.8238659583163057\n",
      "precision_macro :  0.8011979943363301\n",
      "precision_weighted :  0.818536899205262\n",
      "recall_micro :  0.7671232876712328\n",
      "recall_macro :  0.6485473374902986\n",
      "recall_weighted :  0.7671232876712328\n",
      "f1_micro :  0.7944827586206897\n",
      "f1_macro :  0.6983915047416918\n",
      "f1_weighted :  0.7810382526261969\n"
     ]
    }
   ],
   "source": [
    "for key, value in scores_votecls_ml_pca.items():\n",
    "    print(key, \": \", value)"
   ]
  },
  {
   "cell_type": "code",
   "execution_count": 661,
   "id": "eba40fe2",
   "metadata": {},
   "outputs": [],
   "source": [
    "with open(\"mbti-multilabel-votecls-pca-xgb-svc-rf-scores.pkl\", \"wb\") as pklfile:\n",
    "    pickle.dump([votecls_ml_pca, scores_votecls_ml_pca], pklfile)\n",
    "    pklfile.close()"
   ]
  },
  {
   "cell_type": "code",
   "execution_count": 665,
   "id": "4a3439a0",
   "metadata": {},
   "outputs": [
    {
     "data": {
      "text/plain": [
       "0.7055346040896263"
      ]
     },
     "execution_count": 665,
     "metadata": {},
     "output_type": "execute_result"
    }
   ],
   "source": [
    "# Testing XGB on test data\n",
    "Y_predt = xgbcls_ml_pca_nest200.predict(pca_X_test)\n",
    "scorest = fit_metrics(Y_test, Y_predt)\n",
    "scorest[\"f1_macro\"]"
   ]
  },
  {
   "cell_type": "code",
   "execution_count": 666,
   "id": "e505e048",
   "metadata": {},
   "outputs": [
    {
     "name": "stdout",
     "output_type": "stream",
     "text": [
      "accuracy :  0.5844380403458214\n",
      "precision_micro :  0.8157358336730534\n",
      "precision_macro :  0.7807597583767538\n",
      "precision_weighted :  0.8089185885240212\n",
      "recall_micro :  0.7614155251141552\n",
      "recall_macro :  0.6596852596460665\n",
      "recall_weighted :  0.7614155251141552\n",
      "f1_micro :  0.7876402283015154\n",
      "f1_macro :  0.7055346040896263\n",
      "f1_weighted :  0.7783243484998205\n"
     ]
    }
   ],
   "source": [
    "for key, value in scorest.items():\n",
    "    print(key, \": \", value)"
   ]
  },
  {
   "cell_type": "code",
   "execution_count": 667,
   "id": "bac1b11c",
   "metadata": {},
   "outputs": [
    {
     "data": {
      "text/plain": [
       "0.7178015496462118"
      ]
     },
     "execution_count": 667,
     "metadata": {},
     "output_type": "execute_result"
    }
   ],
   "source": [
    "# Testing SVC on test data\n",
    "Y_predt = svcls_ml_pca.predict(pca_X_test)\n",
    "scorest = fit_metrics(Y_test, Y_predt)\n",
    "scorest[\"f1_macro\"]"
   ]
  },
  {
   "cell_type": "code",
   "execution_count": 668,
   "id": "ebfdbb9c",
   "metadata": {},
   "outputs": [
    {
     "name": "stdout",
     "output_type": "stream",
     "text": [
      "accuracy :  0.6144092219020173\n",
      "precision_micro :  0.8264363198071515\n",
      "precision_macro :  0.800537263215578\n",
      "precision_weighted :  0.8210280180827091\n",
      "recall_micro :  0.782724505327245\n",
      "recall_macro :  0.6730739913623497\n",
      "recall_weighted :  0.782724505327245\n",
      "f1_micro :  0.8039867109634551\n",
      "f1_macro :  0.7178015496462118\n",
      "f1_weighted :  0.793132400760721\n"
     ]
    }
   ],
   "source": [
    "for key, value in scorest.items():\n",
    "    print(key, \": \", value)"
   ]
  },
  {
   "cell_type": "code",
   "execution_count": 664,
   "id": "503bdf76",
   "metadata": {},
   "outputs": [
    {
     "data": {
      "text/plain": [
       "0.66816019118049"
      ]
     },
     "execution_count": 664,
     "metadata": {},
     "output_type": "execute_result"
    }
   ],
   "source": [
    "# Testing RF on test data\n",
    "Y_predt = rfcls_ml_pca_mxdp20.predict(pca_X_test)\n",
    "scorest = fit_metrics(Y_test, Y_predt)\n",
    "scorest[\"f1_macro\"]"
   ]
  },
  {
   "cell_type": "markdown",
   "id": "010dd966",
   "metadata": {},
   "source": [
    "Here we find that the Support Vector Classifier outperforms the other estimators as well as Ensemble model.\n",
    "The testset scores of the SVC Classifier using PCA is enumerated below:"
   ]
  },
  {
   "cell_type": "code",
   "execution_count": 678,
   "id": "4cd4f387",
   "metadata": {},
   "outputs": [],
   "source": [
    "rownames = [\"precision\", \"f1\", \"recall\"]\n",
    "colnames = [\"micro\", \"macro\", \"weighted\"]\n",
    "scoremat = np.zeros((3,3))\n",
    "for i in range(3):\n",
    "    for j in range(3):\n",
    "        scoremat[i][j] = scorest[rownames[i]+\"_\"+colnames[j]]*100"
   ]
  },
  {
   "cell_type": "code",
   "execution_count": 680,
   "id": "a1048872",
   "metadata": {},
   "outputs": [
    {
     "data": {
      "image/png": "[encoded data removed]",
      "text/plain": [
       "<Figure size 640x480 with 2 Axes>"
      ]
     },
     "metadata": {},
     "output_type": "display_data"
    }
   ],
   "source": [
    "ax = sns.heatmap(scoremat, annot=True, xticklabels=colnames, yticklabels=rownames, fmt=\".2f\")\n",
    "ax.xaxis.tick_top()"
   ]
  },
  {
   "cell_type": "markdown",
   "id": "347c4f1e",
   "metadata": {},
   "source": [
    "    Precision: All three precision scores are relatively high, so the model will have a lower number of false positives.\n",
    "    \n",
    "    F1: The micro and weighted F1-scores are relatively high, however the macro F1 is on the lower side, indicating class imbalance.\n",
    "    \n",
    "    Recall: The micro and weighted recall is relatively high as compared to macro recall which is low, meaning due to class imbalance, there are certain instances for which the classes are actually positive, which will fail to get identified, i.e., the false negatives will increase. This can be problematic for real-world deployments where the input distribution of data might not match the data on which it was trained on.\n",
    "    \n",
    "    Accuracy: 71.78%"
   ]
  },
  {
   "cell_type": "markdown",
   "id": "a4a7d110",
   "metadata": {},
   "source": [
    "# Future Work"
   ]
  },
  {
   "cell_type": "markdown",
   "id": "6dd32826",
   "metadata": {},
   "source": [
    "Future work may include:\n",
    "\n",
    "    * Lemmatizing words to get a more concise vocabulary, which will add to the information contained in the feature sets, thus improving model performance.\n",
    "    * Use GloVe embedding to get vectors of words in the vocabulary and use them to train sequence models like LSTM and other models like CNN. (A topic of study)\n",
    "    * Hyperparameter tuning of the top estimators may lead to an increase in model_performance."
   ]
  },
  {
   "cell_type": "code",
   "execution_count": null,
   "id": "85e469c7",
   "metadata": {},
   "outputs": [],
   "source": []
  }
 ],
 "metadata": {
  "kernelspec": {
   "display_name": "Python 3.10.1 (ml)",
   "language": "python",
   "name": "ml"
  },
  "language_info": {
   "codemirror_mode": {
    "name": "ipython",
    "version": 3
   },
   "file_extension": ".py",
   "mimetype": "text/x-python",
   "name": "python",
   "nbconvert_exporter": "python",
   "pygments_lexer": "ipython3",
   "version": "3.10.4"
  }
 },
 "nbformat": 4,
 "nbformat_minor": 5
}
